{
 "cells": [
  {
   "cell_type": "code",
   "execution_count": 2,
   "id": "d54d800f",
   "metadata": {},
   "outputs": [],
   "source": [
    "import os\n",
    "import numpy as np\n",
    "import pandas as pd\n",
    "import matplotlib.pyplot as plt\n",
    "import seaborn as sns\n",
    "import warnings\n",
    "\n",
    "warnings.filterwarnings(\"ignore\")"
   ]
  },
  {
   "cell_type": "code",
   "execution_count": 6,
   "id": "ddd9f385",
   "metadata": {},
   "outputs": [],
   "source": [
    "movies = pd.read_csv(\"movies.csv\")\n",
    "ratings = pd.read_csv(\"ratings.csv\")\n",
    "links = pd.read_csv(\"links.csv\")\n",
    "tags = pd.read_csv(\"tags.csv\")"
   ]
  },
  {
   "cell_type": "code",
   "execution_count": 4,
   "id": "b09e2139",
   "metadata": {},
   "outputs": [
    {
     "data": {
      "text/html": [
       "<div>\n",
       "<style scoped>\n",
       "    .dataframe tbody tr th:only-of-type {\n",
       "        vertical-align: middle;\n",
       "    }\n",
       "\n",
       "    .dataframe tbody tr th {\n",
       "        vertical-align: top;\n",
       "    }\n",
       "\n",
       "    .dataframe thead th {\n",
       "        text-align: right;\n",
       "    }\n",
       "</style>\n",
       "<table border=\"1\" class=\"dataframe\">\n",
       "  <thead>\n",
       "    <tr style=\"text-align: right;\">\n",
       "      <th></th>\n",
       "      <th>movieId</th>\n",
       "      <th>title</th>\n",
       "      <th>genres</th>\n",
       "    </tr>\n",
       "  </thead>\n",
       "  <tbody>\n",
       "    <tr>\n",
       "      <th>0</th>\n",
       "      <td>1</td>\n",
       "      <td>Toy Story (1995)</td>\n",
       "      <td>Adventure|Animation|Children|Comedy|Fantasy</td>\n",
       "    </tr>\n",
       "    <tr>\n",
       "      <th>1</th>\n",
       "      <td>2</td>\n",
       "      <td>Jumanji (1995)</td>\n",
       "      <td>Adventure|Children|Fantasy</td>\n",
       "    </tr>\n",
       "    <tr>\n",
       "      <th>2</th>\n",
       "      <td>3</td>\n",
       "      <td>Grumpier Old Men (1995)</td>\n",
       "      <td>Comedy|Romance</td>\n",
       "    </tr>\n",
       "    <tr>\n",
       "      <th>3</th>\n",
       "      <td>4</td>\n",
       "      <td>Waiting to Exhale (1995)</td>\n",
       "      <td>Comedy|Drama|Romance</td>\n",
       "    </tr>\n",
       "    <tr>\n",
       "      <th>4</th>\n",
       "      <td>5</td>\n",
       "      <td>Father of the Bride Part II (1995)</td>\n",
       "      <td>Comedy</td>\n",
       "    </tr>\n",
       "  </tbody>\n",
       "</table>\n",
       "</div>"
      ],
      "text/plain": [
       "   movieId                               title  \\\n",
       "0        1                    Toy Story (1995)   \n",
       "1        2                      Jumanji (1995)   \n",
       "2        3             Grumpier Old Men (1995)   \n",
       "3        4            Waiting to Exhale (1995)   \n",
       "4        5  Father of the Bride Part II (1995)   \n",
       "\n",
       "                                        genres  \n",
       "0  Adventure|Animation|Children|Comedy|Fantasy  \n",
       "1                   Adventure|Children|Fantasy  \n",
       "2                               Comedy|Romance  \n",
       "3                         Comedy|Drama|Romance  \n",
       "4                                       Comedy  "
      ]
     },
     "execution_count": 4,
     "metadata": {},
     "output_type": "execute_result"
    }
   ],
   "source": [
    "movies.head()"
   ]
  },
  {
   "cell_type": "code",
   "execution_count": 5,
   "id": "2012caf3",
   "metadata": {},
   "outputs": [
    {
     "name": "stdout",
     "output_type": "stream",
     "text": [
      "<class 'pandas.core.frame.DataFrame'>\n",
      "RangeIndex: 9742 entries, 0 to 9741\n",
      "Data columns (total 3 columns):\n",
      " #   Column   Non-Null Count  Dtype \n",
      "---  ------   --------------  ----- \n",
      " 0   movieId  9742 non-null   int64 \n",
      " 1   title    9742 non-null   object\n",
      " 2   genres   9742 non-null   object\n",
      "dtypes: int64(1), object(2)\n",
      "memory usage: 228.5+ KB\n"
     ]
    }
   ],
   "source": [
    "movies.info()"
   ]
  },
  {
   "cell_type": "code",
   "execution_count": 11,
   "id": "6c20adaf",
   "metadata": {},
   "outputs": [
    {
     "data": {
      "text/plain": [
       "(9742, 3)"
      ]
     },
     "execution_count": 11,
     "metadata": {},
     "output_type": "execute_result"
    }
   ],
   "source": [
    "movies.shape"
   ]
  },
  {
   "cell_type": "code",
   "execution_count": 7,
   "id": "c4bbc077",
   "metadata": {},
   "outputs": [
    {
     "name": "stdout",
     "output_type": "stream",
     "text": [
      "<class 'pandas.core.frame.DataFrame'>\n",
      "RangeIndex: 100836 entries, 0 to 100835\n",
      "Data columns (total 4 columns):\n",
      " #   Column     Non-Null Count   Dtype  \n",
      "---  ------     --------------   -----  \n",
      " 0   userId     100836 non-null  int64  \n",
      " 1   movieId    100836 non-null  int64  \n",
      " 2   rating     100836 non-null  float64\n",
      " 3   timestamp  100836 non-null  int64  \n",
      "dtypes: float64(1), int64(3)\n",
      "memory usage: 3.1 MB\n"
     ]
    }
   ],
   "source": [
    "ratings.info()"
   ]
  },
  {
   "cell_type": "code",
   "execution_count": 12,
   "id": "69bbc89b",
   "metadata": {},
   "outputs": [
    {
     "data": {
      "text/plain": [
       "(100836, 4)"
      ]
     },
     "execution_count": 12,
     "metadata": {},
     "output_type": "execute_result"
    }
   ],
   "source": [
    "ratings.shape"
   ]
  },
  {
   "cell_type": "code",
   "execution_count": 8,
   "id": "5c42e074",
   "metadata": {},
   "outputs": [
    {
     "name": "stdout",
     "output_type": "stream",
     "text": [
      "<class 'pandas.core.frame.DataFrame'>\n",
      "RangeIndex: 3683 entries, 0 to 3682\n",
      "Data columns (total 4 columns):\n",
      " #   Column     Non-Null Count  Dtype \n",
      "---  ------     --------------  ----- \n",
      " 0   userId     3683 non-null   int64 \n",
      " 1   movieId    3683 non-null   int64 \n",
      " 2   tag        3683 non-null   object\n",
      " 3   timestamp  3683 non-null   int64 \n",
      "dtypes: int64(3), object(1)\n",
      "memory usage: 115.2+ KB\n"
     ]
    }
   ],
   "source": [
    "tags.info()"
   ]
  },
  {
   "cell_type": "code",
   "execution_count": 10,
   "id": "9d807346",
   "metadata": {},
   "outputs": [
    {
     "name": "stdout",
     "output_type": "stream",
     "text": [
      "<class 'pandas.core.frame.DataFrame'>\n",
      "RangeIndex: 9742 entries, 0 to 9741\n",
      "Data columns (total 3 columns):\n",
      " #   Column   Non-Null Count  Dtype  \n",
      "---  ------   --------------  -----  \n",
      " 0   movieId  9742 non-null   int64  \n",
      " 1   imdbId   9742 non-null   int64  \n",
      " 2   tmdbId   9734 non-null   float64\n",
      "dtypes: float64(1), int64(2)\n",
      "memory usage: 228.5 KB\n"
     ]
    }
   ],
   "source": [
    "links.info()"
   ]
  },
  {
   "cell_type": "code",
   "execution_count": 13,
   "id": "8252666b",
   "metadata": {},
   "outputs": [
    {
     "name": "stdout",
     "output_type": "stream",
     "text": [
      "<class 'pandas.core.frame.DataFrame'>\n",
      "RangeIndex: 100836 entries, 0 to 100835\n",
      "Data columns (total 4 columns):\n",
      " #   Column     Non-Null Count   Dtype  \n",
      "---  ------     --------------   -----  \n",
      " 0   userId     100836 non-null  int64  \n",
      " 1   movieId    100836 non-null  int64  \n",
      " 2   rating     100836 non-null  float64\n",
      " 3   timestamp  100836 non-null  int64  \n",
      "dtypes: float64(1), int64(3)\n",
      "memory usage: 3.1 MB\n"
     ]
    }
   ],
   "source": [
    "ratings.info()"
   ]
  },
  {
   "cell_type": "code",
   "execution_count": 14,
   "id": "77ffcdb8",
   "metadata": {},
   "outputs": [
    {
     "data": {
      "text/plain": [
       "610"
      ]
     },
     "execution_count": 14,
     "metadata": {},
     "output_type": "execute_result"
    }
   ],
   "source": [
    "ratings['userId'].nunique()"
   ]
  },
  {
   "cell_type": "code",
   "execution_count": 43,
   "id": "cf4cec49",
   "metadata": {},
   "outputs": [],
   "source": [
    "ratings_count = ratings.groupby('movieId').size().reset_index(name=\"count\")"
   ]
  },
  {
   "cell_type": "code",
   "execution_count": 44,
   "id": "bb5ef180",
   "metadata": {},
   "outputs": [
    {
     "data": {
      "text/html": [
       "<div>\n",
       "<style scoped>\n",
       "    .dataframe tbody tr th:only-of-type {\n",
       "        vertical-align: middle;\n",
       "    }\n",
       "\n",
       "    .dataframe tbody tr th {\n",
       "        vertical-align: top;\n",
       "    }\n",
       "\n",
       "    .dataframe thead th {\n",
       "        text-align: right;\n",
       "    }\n",
       "</style>\n",
       "<table border=\"1\" class=\"dataframe\">\n",
       "  <thead>\n",
       "    <tr style=\"text-align: right;\">\n",
       "      <th></th>\n",
       "      <th>movieId</th>\n",
       "      <th>count</th>\n",
       "    </tr>\n",
       "  </thead>\n",
       "  <tbody>\n",
       "    <tr>\n",
       "      <th>0</th>\n",
       "      <td>1</td>\n",
       "      <td>215</td>\n",
       "    </tr>\n",
       "    <tr>\n",
       "      <th>1</th>\n",
       "      <td>2</td>\n",
       "      <td>110</td>\n",
       "    </tr>\n",
       "    <tr>\n",
       "      <th>2</th>\n",
       "      <td>3</td>\n",
       "      <td>52</td>\n",
       "    </tr>\n",
       "    <tr>\n",
       "      <th>3</th>\n",
       "      <td>4</td>\n",
       "      <td>7</td>\n",
       "    </tr>\n",
       "    <tr>\n",
       "      <th>4</th>\n",
       "      <td>5</td>\n",
       "      <td>49</td>\n",
       "    </tr>\n",
       "    <tr>\n",
       "      <th>...</th>\n",
       "      <td>...</td>\n",
       "      <td>...</td>\n",
       "    </tr>\n",
       "    <tr>\n",
       "      <th>9719</th>\n",
       "      <td>193581</td>\n",
       "      <td>1</td>\n",
       "    </tr>\n",
       "    <tr>\n",
       "      <th>9720</th>\n",
       "      <td>193583</td>\n",
       "      <td>1</td>\n",
       "    </tr>\n",
       "    <tr>\n",
       "      <th>9721</th>\n",
       "      <td>193585</td>\n",
       "      <td>1</td>\n",
       "    </tr>\n",
       "    <tr>\n",
       "      <th>9722</th>\n",
       "      <td>193587</td>\n",
       "      <td>1</td>\n",
       "    </tr>\n",
       "    <tr>\n",
       "      <th>9723</th>\n",
       "      <td>193609</td>\n",
       "      <td>1</td>\n",
       "    </tr>\n",
       "  </tbody>\n",
       "</table>\n",
       "<p>9724 rows × 2 columns</p>\n",
       "</div>"
      ],
      "text/plain": [
       "      movieId  count\n",
       "0           1    215\n",
       "1           2    110\n",
       "2           3     52\n",
       "3           4      7\n",
       "4           5     49\n",
       "...       ...    ...\n",
       "9719   193581      1\n",
       "9720   193583      1\n",
       "9721   193585      1\n",
       "9722   193587      1\n",
       "9723   193609      1\n",
       "\n",
       "[9724 rows x 2 columns]"
      ]
     },
     "execution_count": 44,
     "metadata": {},
     "output_type": "execute_result"
    }
   ],
   "source": [
    "ratings_count"
   ]
  },
  {
   "cell_type": "code",
   "execution_count": 45,
   "id": "f8af5e58",
   "metadata": {},
   "outputs": [
    {
     "data": {
      "text/html": [
       "<div>\n",
       "<style scoped>\n",
       "    .dataframe tbody tr th:only-of-type {\n",
       "        vertical-align: middle;\n",
       "    }\n",
       "\n",
       "    .dataframe tbody tr th {\n",
       "        vertical-align: top;\n",
       "    }\n",
       "\n",
       "    .dataframe thead th {\n",
       "        text-align: right;\n",
       "    }\n",
       "</style>\n",
       "<table border=\"1\" class=\"dataframe\">\n",
       "  <thead>\n",
       "    <tr style=\"text-align: right;\">\n",
       "      <th></th>\n",
       "      <th>userId</th>\n",
       "      <th>movieId</th>\n",
       "      <th>rating</th>\n",
       "      <th>timestamp</th>\n",
       "    </tr>\n",
       "  </thead>\n",
       "  <tbody>\n",
       "    <tr>\n",
       "      <th>0</th>\n",
       "      <td>1</td>\n",
       "      <td>1</td>\n",
       "      <td>4.0</td>\n",
       "      <td>964982703</td>\n",
       "    </tr>\n",
       "    <tr>\n",
       "      <th>1</th>\n",
       "      <td>1</td>\n",
       "      <td>3</td>\n",
       "      <td>4.0</td>\n",
       "      <td>964981247</td>\n",
       "    </tr>\n",
       "    <tr>\n",
       "      <th>2</th>\n",
       "      <td>1</td>\n",
       "      <td>6</td>\n",
       "      <td>4.0</td>\n",
       "      <td>964982224</td>\n",
       "    </tr>\n",
       "    <tr>\n",
       "      <th>3</th>\n",
       "      <td>1</td>\n",
       "      <td>47</td>\n",
       "      <td>5.0</td>\n",
       "      <td>964983815</td>\n",
       "    </tr>\n",
       "    <tr>\n",
       "      <th>4</th>\n",
       "      <td>1</td>\n",
       "      <td>50</td>\n",
       "      <td>5.0</td>\n",
       "      <td>964982931</td>\n",
       "    </tr>\n",
       "  </tbody>\n",
       "</table>\n",
       "</div>"
      ],
      "text/plain": [
       "   userId  movieId  rating  timestamp\n",
       "0       1        1     4.0  964982703\n",
       "1       1        3     4.0  964981247\n",
       "2       1        6     4.0  964982224\n",
       "3       1       47     5.0  964983815\n",
       "4       1       50     5.0  964982931"
      ]
     },
     "execution_count": 45,
     "metadata": {},
     "output_type": "execute_result"
    }
   ],
   "source": [
    "ratings.head()"
   ]
  },
  {
   "cell_type": "markdown",
   "id": "02142b26",
   "metadata": {},
   "source": [
    "## Movie has recieved maximum number of user ratings"
   ]
  },
  {
   "cell_type": "code",
   "execution_count": 48,
   "id": "95518db3",
   "metadata": {},
   "outputs": [
    {
     "name": "stdout",
     "output_type": "stream",
     "text": [
      "The movie with the maximum number of user ratings is: Forrest Gump (1994)\n"
     ]
    }
   ],
   "source": [
    "ratings_count = ratings.groupby('movieId').size().reset_index(name='count')\n",
    "\n",
    "max_rated_movie_id = ratings_count.loc[ratings_count['count'].idxmax(), 'movieId']\n",
    "\n",
    "max_rated_movie_title = movies.loc[movies['movieId'] == max_rated_movie_id, 'title'].values[0]\n",
    "\n",
    "print(f\"The movie with the maximum number of user ratings is: {max_rated_movie_title}\")"
   ]
  },
  {
   "cell_type": "markdown",
   "id": "ef174983",
   "metadata": {},
   "source": [
    "## All the correct tags submitted by users to \"Matrix, The (1999)\" movie"
   ]
  },
  {
   "cell_type": "code",
   "execution_count": 61,
   "id": "4e8d4a31",
   "metadata": {},
   "outputs": [],
   "source": [
    "movieid_of_matrix = movies[movies['title'] == \"Matrix, The (1999)\"]['movieId'].values[0]"
   ]
  },
  {
   "cell_type": "code",
   "execution_count": 58,
   "id": "6e717596",
   "metadata": {},
   "outputs": [
    {
     "data": {
      "text/plain": [
       "movieId                      2571\n",
       "title          Matrix, The (1999)\n",
       "genres     Action|Sci-Fi|Thriller\n",
       "Name: 1939, dtype: object"
      ]
     },
     "execution_count": 58,
     "metadata": {},
     "output_type": "execute_result"
    }
   ],
   "source": [
    "movies.iloc[1939]"
   ]
  },
  {
   "cell_type": "code",
   "execution_count": 62,
   "id": "b90c33f9",
   "metadata": {},
   "outputs": [
    {
     "name": "stdout",
     "output_type": "stream",
     "text": [
      "2571\n"
     ]
    }
   ],
   "source": [
    "print(movieid_of_matrix)"
   ]
  },
  {
   "cell_type": "code",
   "execution_count": 63,
   "id": "d4fb5b62",
   "metadata": {},
   "outputs": [
    {
     "name": "stdout",
     "output_type": "stream",
     "text": [
      "<class 'pandas.core.frame.DataFrame'>\n",
      "RangeIndex: 3683 entries, 0 to 3682\n",
      "Data columns (total 4 columns):\n",
      " #   Column     Non-Null Count  Dtype \n",
      "---  ------     --------------  ----- \n",
      " 0   userId     3683 non-null   int64 \n",
      " 1   movieId    3683 non-null   int64 \n",
      " 2   tag        3683 non-null   object\n",
      " 3   timestamp  3683 non-null   int64 \n",
      "dtypes: int64(3), object(1)\n",
      "memory usage: 115.2+ KB\n"
     ]
    }
   ],
   "source": [
    "tags.info()"
   ]
  },
  {
   "cell_type": "code",
   "execution_count": 65,
   "id": "ff8b6a14",
   "metadata": {},
   "outputs": [
    {
     "data": {
      "text/html": [
       "<div>\n",
       "<style scoped>\n",
       "    .dataframe tbody tr th:only-of-type {\n",
       "        vertical-align: middle;\n",
       "    }\n",
       "\n",
       "    .dataframe tbody tr th {\n",
       "        vertical-align: top;\n",
       "    }\n",
       "\n",
       "    .dataframe thead th {\n",
       "        text-align: right;\n",
       "    }\n",
       "</style>\n",
       "<table border=\"1\" class=\"dataframe\">\n",
       "  <thead>\n",
       "    <tr style=\"text-align: right;\">\n",
       "      <th></th>\n",
       "      <th>userId</th>\n",
       "      <th>movieId</th>\n",
       "      <th>tag</th>\n",
       "      <th>timestamp</th>\n",
       "    </tr>\n",
       "  </thead>\n",
       "  <tbody>\n",
       "    <tr>\n",
       "      <th>815</th>\n",
       "      <td>424</td>\n",
       "      <td>2571</td>\n",
       "      <td>martial arts</td>\n",
       "      <td>1457842912</td>\n",
       "    </tr>\n",
       "    <tr>\n",
       "      <th>816</th>\n",
       "      <td>424</td>\n",
       "      <td>2571</td>\n",
       "      <td>sci-fi</td>\n",
       "      <td>1457842899</td>\n",
       "    </tr>\n",
       "    <tr>\n",
       "      <th>1646</th>\n",
       "      <td>474</td>\n",
       "      <td>2571</td>\n",
       "      <td>alternate universe</td>\n",
       "      <td>1137204991</td>\n",
       "    </tr>\n",
       "    <tr>\n",
       "      <th>2794</th>\n",
       "      <td>537</td>\n",
       "      <td>2571</td>\n",
       "      <td>philosophy</td>\n",
       "      <td>1424141098</td>\n",
       "    </tr>\n",
       "    <tr>\n",
       "      <th>2795</th>\n",
       "      <td>537</td>\n",
       "      <td>2571</td>\n",
       "      <td>post apocalyptic</td>\n",
       "      <td>1424141101</td>\n",
       "    </tr>\n",
       "  </tbody>\n",
       "</table>\n",
       "</div>"
      ],
      "text/plain": [
       "      userId  movieId                 tag   timestamp\n",
       "815      424     2571        martial arts  1457842912\n",
       "816      424     2571              sci-fi  1457842899\n",
       "1646     474     2571  alternate universe  1137204991\n",
       "2794     537     2571          philosophy  1424141098\n",
       "2795     537     2571    post apocalyptic  1424141101"
      ]
     },
     "execution_count": 65,
     "metadata": {},
     "output_type": "execute_result"
    }
   ],
   "source": [
    "tags[tags['movieId'] == movieid_of_matrix]"
   ]
  },
  {
   "cell_type": "markdown",
   "id": "6dd5bba6",
   "metadata": {},
   "source": [
    "## Average user rating for movie named \"Terminator 2: Judgment Day (1991)\""
   ]
  },
  {
   "cell_type": "code",
   "execution_count": 85,
   "id": "cdddb9b3",
   "metadata": {},
   "outputs": [
    {
     "name": "stdout",
     "output_type": "stream",
     "text": [
      "3.970982142857143\n"
     ]
    }
   ],
   "source": [
    "movieid_of_terminator2 = movies[movies['title'] == \"Terminator 2: Judgment Day (1991)\"]['movieId'].values[0]\n",
    "total_ratings = ratings[ratings['movieId'] == movieid_of_terminator2]['rating'].values\n",
    "print(sum(total_ratings)/len(total_ratings))"
   ]
  },
  {
   "cell_type": "code",
   "execution_count": 81,
   "id": "d888515e",
   "metadata": {},
   "outputs": [
    {
     "data": {
      "text/plain": [
       "movieId                                  589\n",
       "title      Terminator 2: Judgment Day (1991)\n",
       "genres                         Action|Sci-Fi\n",
       "Name: 507, dtype: object"
      ]
     },
     "execution_count": 81,
     "metadata": {},
     "output_type": "execute_result"
    }
   ],
   "source": [
    "movies.iloc[507]"
   ]
  },
  {
   "cell_type": "code",
   "execution_count": 83,
   "id": "f92db469",
   "metadata": {},
   "outputs": [
    {
     "data": {
      "text/plain": [
       "589"
      ]
     },
     "execution_count": 83,
     "metadata": {},
     "output_type": "execute_result"
    }
   ],
   "source": [
    "movieid_of_terminator2"
   ]
  },
  {
   "cell_type": "code",
   "execution_count": 84,
   "id": "c1a34a86",
   "metadata": {},
   "outputs": [
    {
     "name": "stdout",
     "output_type": "stream",
     "text": [
      "3.970982142857143\n"
     ]
    }
   ],
   "source": [
    "total_ratings = ratings[ratings['movieId'] == movieid_of_terminator2]['rating'].values\n",
    "\n",
    "print(sum(total_ratings)/len(total_ratings))"
   ]
  },
  {
   "cell_type": "code",
   "execution_count": 76,
   "id": "752d9368",
   "metadata": {},
   "outputs": [
    {
     "name": "stdout",
     "output_type": "stream",
     "text": [
      "[3.  3.  2.5 4.  5.  4.5 4.5 5.  3.5 4.5 3.5 4.  3.5 4.  5.  5.  5.  3.\n",
      " 4.  4.  4.  4.  4.  4.  4.  3.5 3.5 4.  3.  4.5 4.5 3.5 4.5 5.  5.  4.5\n",
      " 4.  4.  4.  5.  4.  4.  3.  5.  4.  4.  5.  4.  3.  3.  4.  3.5 3.  2.\n",
      " 3.  5.  5.  3.  4.  5.  4.  5.  2.  5.  5.  3.  5.  3.  3.5 5.  5.  4.\n",
      " 4.  4.  5.  3.  4.5 5.  4.5 4.  3.5 5.  0.5 5.  4.  4.  3.5 4.  4.  4.\n",
      " 5.  3.5 4.  4.  4.  4.  5.  3.5 5.  4.5 4.  4.5 5.  4.  4.  3.  4.  0.5\n",
      " 4.  5.  5.  5.  2.5 1.  3.  4.  5.  5.  4.  3.  1.  3.5 3.5 4.  5.  5.\n",
      " 4.  3.  4.  4.5 3.5 3.  3.5 4.  4.  3.  4.  4.  3.  5.  4.  5.  2.5 5.\n",
      " 3.  3.5 4.  0.5 3.  2.5 5.  3.  5.  5.  2.  3.5 2.5 3.5 4.5 4.  5.  3.5\n",
      " 5.  4.  5.  4.  3.  5.  5.  5.  3.  3.  2.5 5.  4.  5.  4.  5.  5.  5.\n",
      " 4.5 4.  5.  3.5 4.  5.  3.  3.  4.  4.5 5.  4.  4.  3.  4.5 3.  5.  3.\n",
      " 4.  5.  4.  3.  4.  4.5 4.  5.  4.  5.  5.  3.  4.5 5.  5.  3.  5.  4.5\n",
      " 3.  5.  3.5 3.5 4.  3.  3.  5. ]\n",
      "224\n",
      "889.5\n"
     ]
    }
   ],
   "source": [
    "print(total_ratings)\n",
    "\n",
    "print(len(total_ratings))\n",
    "print(sum(total_ratings))"
   ]
  },
  {
   "cell_type": "code",
   "execution_count": 77,
   "id": "251f2bf1",
   "metadata": {},
   "outputs": [
    {
     "name": "stdout",
     "output_type": "stream",
     "text": [
      "3.970982142857143\n"
     ]
    }
   ],
   "source": [
    "print(sum(total_ratings)/len(total_ratings))"
   ]
  },
  {
   "cell_type": "markdown",
   "id": "f26150f8",
   "metadata": {},
   "source": [
    "## Data distribution of user ratings for \"Fight Club (1999)\" movie looks like?"
   ]
  },
  {
   "cell_type": "code",
   "execution_count": 91,
   "id": "72b28e49",
   "metadata": {},
   "outputs": [],
   "source": [
    "movieid_of_fightclub = movies[movies['title'] == \"Fight Club (1999)\"]['movieId'].values[0]"
   ]
  },
  {
   "cell_type": "code",
   "execution_count": 92,
   "id": "f20b262c",
   "metadata": {},
   "outputs": [
    {
     "data": {
      "text/plain": [
       "2959"
      ]
     },
     "execution_count": 92,
     "metadata": {},
     "output_type": "execute_result"
    }
   ],
   "source": [
    "movieid_of_fightclub"
   ]
  },
  {
   "cell_type": "code",
   "execution_count": 93,
   "id": "b29cf860",
   "metadata": {},
   "outputs": [],
   "source": [
    "total_ratings = ratings[ratings['movieId'] == movieid_of_fightclub]['rating'].values"
   ]
  },
  {
   "cell_type": "code",
   "execution_count": 95,
   "id": "84042f1d",
   "metadata": {},
   "outputs": [
    {
     "data": {
      "text/plain": [
       "(array([ 3.,  0.,  1.,  5.,  3., 10., 17., 49., 49., 81.]),\n",
       " array([0.5 , 0.95, 1.4 , 1.85, 2.3 , 2.75, 3.2 , 3.65, 4.1 , 4.55, 5.  ]),\n",
       " <BarContainer object of 10 artists>)"
      ]
     },
     "execution_count": 95,
     "metadata": {},
     "output_type": "execute_result"
    },
    {
     "data": {
      "image/png": "[encoded data removed]",
      "text/plain": [
       "<Figure size 640x480 with 1 Axes>"
      ]
     },
     "metadata": {},
     "output_type": "display_data"
    }
   ],
   "source": [
    "plt.hist(total_ratings)"
   ]
  },
  {
   "cell_type": "markdown",
   "id": "158fced1",
   "metadata": {},
   "source": [
    "# Important note 1"
   ]
  },
  {
   "cell_type": "code",
   "execution_count": 97,
   "id": "79209b0e",
   "metadata": {},
   "outputs": [],
   "source": [
    "grouped_ratings = ratings.groupby(\"movieId\").agg(\n",
    "    count = ('rating', 'size'),\n",
    "    mean = ('rating', 'mean')\n",
    ").reset_index()"
   ]
  },
  {
   "cell_type": "code",
   "execution_count": 98,
   "id": "ee6448de",
   "metadata": {},
   "outputs": [
    {
     "data": {
      "text/html": [
       "<div>\n",
       "<style scoped>\n",
       "    .dataframe tbody tr th:only-of-type {\n",
       "        vertical-align: middle;\n",
       "    }\n",
       "\n",
       "    .dataframe tbody tr th {\n",
       "        vertical-align: top;\n",
       "    }\n",
       "\n",
       "    .dataframe thead th {\n",
       "        text-align: right;\n",
       "    }\n",
       "</style>\n",
       "<table border=\"1\" class=\"dataframe\">\n",
       "  <thead>\n",
       "    <tr style=\"text-align: right;\">\n",
       "      <th></th>\n",
       "      <th>movieId</th>\n",
       "      <th>count</th>\n",
       "      <th>mean</th>\n",
       "    </tr>\n",
       "  </thead>\n",
       "  <tbody>\n",
       "    <tr>\n",
       "      <th>0</th>\n",
       "      <td>1</td>\n",
       "      <td>215</td>\n",
       "      <td>3.920930</td>\n",
       "    </tr>\n",
       "    <tr>\n",
       "      <th>1</th>\n",
       "      <td>2</td>\n",
       "      <td>110</td>\n",
       "      <td>3.431818</td>\n",
       "    </tr>\n",
       "    <tr>\n",
       "      <th>2</th>\n",
       "      <td>3</td>\n",
       "      <td>52</td>\n",
       "      <td>3.259615</td>\n",
       "    </tr>\n",
       "    <tr>\n",
       "      <th>3</th>\n",
       "      <td>4</td>\n",
       "      <td>7</td>\n",
       "      <td>2.357143</td>\n",
       "    </tr>\n",
       "    <tr>\n",
       "      <th>4</th>\n",
       "      <td>5</td>\n",
       "      <td>49</td>\n",
       "      <td>3.071429</td>\n",
       "    </tr>\n",
       "    <tr>\n",
       "      <th>...</th>\n",
       "      <td>...</td>\n",
       "      <td>...</td>\n",
       "      <td>...</td>\n",
       "    </tr>\n",
       "    <tr>\n",
       "      <th>9719</th>\n",
       "      <td>193581</td>\n",
       "      <td>1</td>\n",
       "      <td>4.000000</td>\n",
       "    </tr>\n",
       "    <tr>\n",
       "      <th>9720</th>\n",
       "      <td>193583</td>\n",
       "      <td>1</td>\n",
       "      <td>3.500000</td>\n",
       "    </tr>\n",
       "    <tr>\n",
       "      <th>9721</th>\n",
       "      <td>193585</td>\n",
       "      <td>1</td>\n",
       "      <td>3.500000</td>\n",
       "    </tr>\n",
       "    <tr>\n",
       "      <th>9722</th>\n",
       "      <td>193587</td>\n",
       "      <td>1</td>\n",
       "      <td>3.500000</td>\n",
       "    </tr>\n",
       "    <tr>\n",
       "      <th>9723</th>\n",
       "      <td>193609</td>\n",
       "      <td>1</td>\n",
       "      <td>4.000000</td>\n",
       "    </tr>\n",
       "  </tbody>\n",
       "</table>\n",
       "<p>9724 rows × 3 columns</p>\n",
       "</div>"
      ],
      "text/plain": [
       "      movieId  count      mean\n",
       "0           1    215  3.920930\n",
       "1           2    110  3.431818\n",
       "2           3     52  3.259615\n",
       "3           4      7  2.357143\n",
       "4           5     49  3.071429\n",
       "...       ...    ...       ...\n",
       "9719   193581      1  4.000000\n",
       "9720   193583      1  3.500000\n",
       "9721   193585      1  3.500000\n",
       "9722   193587      1  3.500000\n",
       "9723   193609      1  4.000000\n",
       "\n",
       "[9724 rows x 3 columns]"
      ]
     },
     "execution_count": 98,
     "metadata": {},
     "output_type": "execute_result"
    }
   ],
   "source": [
    "grouped_ratings"
   ]
  },
  {
   "cell_type": "code",
   "execution_count": 99,
   "id": "46a91dc9",
   "metadata": {},
   "outputs": [],
   "source": [
    "merged_df = pd.merge(movies, grouped_ratings, on=\"movieId\", how=\"inner\")"
   ]
  },
  {
   "cell_type": "code",
   "execution_count": 100,
   "id": "06044666",
   "metadata": {},
   "outputs": [
    {
     "data": {
      "text/html": [
       "<div>\n",
       "<style scoped>\n",
       "    .dataframe tbody tr th:only-of-type {\n",
       "        vertical-align: middle;\n",
       "    }\n",
       "\n",
       "    .dataframe tbody tr th {\n",
       "        vertical-align: top;\n",
       "    }\n",
       "\n",
       "    .dataframe thead th {\n",
       "        text-align: right;\n",
       "    }\n",
       "</style>\n",
       "<table border=\"1\" class=\"dataframe\">\n",
       "  <thead>\n",
       "    <tr style=\"text-align: right;\">\n",
       "      <th></th>\n",
       "      <th>movieId</th>\n",
       "      <th>title</th>\n",
       "      <th>genres</th>\n",
       "      <th>count</th>\n",
       "      <th>mean</th>\n",
       "    </tr>\n",
       "  </thead>\n",
       "  <tbody>\n",
       "    <tr>\n",
       "      <th>0</th>\n",
       "      <td>1</td>\n",
       "      <td>Toy Story (1995)</td>\n",
       "      <td>Adventure|Animation|Children|Comedy|Fantasy</td>\n",
       "      <td>215</td>\n",
       "      <td>3.920930</td>\n",
       "    </tr>\n",
       "    <tr>\n",
       "      <th>1</th>\n",
       "      <td>2</td>\n",
       "      <td>Jumanji (1995)</td>\n",
       "      <td>Adventure|Children|Fantasy</td>\n",
       "      <td>110</td>\n",
       "      <td>3.431818</td>\n",
       "    </tr>\n",
       "    <tr>\n",
       "      <th>2</th>\n",
       "      <td>3</td>\n",
       "      <td>Grumpier Old Men (1995)</td>\n",
       "      <td>Comedy|Romance</td>\n",
       "      <td>52</td>\n",
       "      <td>3.259615</td>\n",
       "    </tr>\n",
       "    <tr>\n",
       "      <th>3</th>\n",
       "      <td>4</td>\n",
       "      <td>Waiting to Exhale (1995)</td>\n",
       "      <td>Comedy|Drama|Romance</td>\n",
       "      <td>7</td>\n",
       "      <td>2.357143</td>\n",
       "    </tr>\n",
       "    <tr>\n",
       "      <th>4</th>\n",
       "      <td>5</td>\n",
       "      <td>Father of the Bride Part II (1995)</td>\n",
       "      <td>Comedy</td>\n",
       "      <td>49</td>\n",
       "      <td>3.071429</td>\n",
       "    </tr>\n",
       "    <tr>\n",
       "      <th>...</th>\n",
       "      <td>...</td>\n",
       "      <td>...</td>\n",
       "      <td>...</td>\n",
       "      <td>...</td>\n",
       "      <td>...</td>\n",
       "    </tr>\n",
       "    <tr>\n",
       "      <th>9719</th>\n",
       "      <td>193581</td>\n",
       "      <td>Black Butler: Book of the Atlantic (2017)</td>\n",
       "      <td>Action|Animation|Comedy|Fantasy</td>\n",
       "      <td>1</td>\n",
       "      <td>4.000000</td>\n",
       "    </tr>\n",
       "    <tr>\n",
       "      <th>9720</th>\n",
       "      <td>193583</td>\n",
       "      <td>No Game No Life: Zero (2017)</td>\n",
       "      <td>Animation|Comedy|Fantasy</td>\n",
       "      <td>1</td>\n",
       "      <td>3.500000</td>\n",
       "    </tr>\n",
       "    <tr>\n",
       "      <th>9721</th>\n",
       "      <td>193585</td>\n",
       "      <td>Flint (2017)</td>\n",
       "      <td>Drama</td>\n",
       "      <td>1</td>\n",
       "      <td>3.500000</td>\n",
       "    </tr>\n",
       "    <tr>\n",
       "      <th>9722</th>\n",
       "      <td>193587</td>\n",
       "      <td>Bungo Stray Dogs: Dead Apple (2018)</td>\n",
       "      <td>Action|Animation</td>\n",
       "      <td>1</td>\n",
       "      <td>3.500000</td>\n",
       "    </tr>\n",
       "    <tr>\n",
       "      <th>9723</th>\n",
       "      <td>193609</td>\n",
       "      <td>Andrew Dice Clay: Dice Rules (1991)</td>\n",
       "      <td>Comedy</td>\n",
       "      <td>1</td>\n",
       "      <td>4.000000</td>\n",
       "    </tr>\n",
       "  </tbody>\n",
       "</table>\n",
       "<p>9724 rows × 5 columns</p>\n",
       "</div>"
      ],
      "text/plain": [
       "      movieId                                      title  \\\n",
       "0           1                           Toy Story (1995)   \n",
       "1           2                             Jumanji (1995)   \n",
       "2           3                    Grumpier Old Men (1995)   \n",
       "3           4                   Waiting to Exhale (1995)   \n",
       "4           5         Father of the Bride Part II (1995)   \n",
       "...       ...                                        ...   \n",
       "9719   193581  Black Butler: Book of the Atlantic (2017)   \n",
       "9720   193583               No Game No Life: Zero (2017)   \n",
       "9721   193585                               Flint (2017)   \n",
       "9722   193587        Bungo Stray Dogs: Dead Apple (2018)   \n",
       "9723   193609        Andrew Dice Clay: Dice Rules (1991)   \n",
       "\n",
       "                                           genres  count      mean  \n",
       "0     Adventure|Animation|Children|Comedy|Fantasy    215  3.920930  \n",
       "1                      Adventure|Children|Fantasy    110  3.431818  \n",
       "2                                  Comedy|Romance     52  3.259615  \n",
       "3                            Comedy|Drama|Romance      7  2.357143  \n",
       "4                                          Comedy     49  3.071429  \n",
       "...                                           ...    ...       ...  \n",
       "9719              Action|Animation|Comedy|Fantasy      1  4.000000  \n",
       "9720                     Animation|Comedy|Fantasy      1  3.500000  \n",
       "9721                                        Drama      1  3.500000  \n",
       "9722                             Action|Animation      1  3.500000  \n",
       "9723                                       Comedy      1  4.000000  \n",
       "\n",
       "[9724 rows x 5 columns]"
      ]
     },
     "execution_count": 100,
     "metadata": {},
     "output_type": "execute_result"
    }
   ],
   "source": [
    "merged_df"
   ]
  },
  {
   "cell_type": "code",
   "execution_count": 106,
   "id": "e71348dd",
   "metadata": {},
   "outputs": [],
   "source": [
    "movie_ratings_count_greater_than_50 = merged_df[merged_df['count'] > 50]"
   ]
  },
  {
   "cell_type": "code",
   "execution_count": 107,
   "id": "e998bdd4",
   "metadata": {},
   "outputs": [
    {
     "data": {
      "text/html": [
       "<div>\n",
       "<style scoped>\n",
       "    .dataframe tbody tr th:only-of-type {\n",
       "        vertical-align: middle;\n",
       "    }\n",
       "\n",
       "    .dataframe tbody tr th {\n",
       "        vertical-align: top;\n",
       "    }\n",
       "\n",
       "    .dataframe thead th {\n",
       "        text-align: right;\n",
       "    }\n",
       "</style>\n",
       "<table border=\"1\" class=\"dataframe\">\n",
       "  <thead>\n",
       "    <tr style=\"text-align: right;\">\n",
       "      <th></th>\n",
       "      <th>movieId</th>\n",
       "      <th>title</th>\n",
       "      <th>genres</th>\n",
       "      <th>count</th>\n",
       "      <th>mean</th>\n",
       "    </tr>\n",
       "  </thead>\n",
       "  <tbody>\n",
       "    <tr>\n",
       "      <th>0</th>\n",
       "      <td>1</td>\n",
       "      <td>Toy Story (1995)</td>\n",
       "      <td>Adventure|Animation|Children|Comedy|Fantasy</td>\n",
       "      <td>215</td>\n",
       "      <td>3.920930</td>\n",
       "    </tr>\n",
       "    <tr>\n",
       "      <th>1</th>\n",
       "      <td>2</td>\n",
       "      <td>Jumanji (1995)</td>\n",
       "      <td>Adventure|Children|Fantasy</td>\n",
       "      <td>110</td>\n",
       "      <td>3.431818</td>\n",
       "    </tr>\n",
       "    <tr>\n",
       "      <th>2</th>\n",
       "      <td>3</td>\n",
       "      <td>Grumpier Old Men (1995)</td>\n",
       "      <td>Comedy|Romance</td>\n",
       "      <td>52</td>\n",
       "      <td>3.259615</td>\n",
       "    </tr>\n",
       "    <tr>\n",
       "      <th>5</th>\n",
       "      <td>6</td>\n",
       "      <td>Heat (1995)</td>\n",
       "      <td>Action|Crime|Thriller</td>\n",
       "      <td>102</td>\n",
       "      <td>3.946078</td>\n",
       "    </tr>\n",
       "    <tr>\n",
       "      <th>6</th>\n",
       "      <td>7</td>\n",
       "      <td>Sabrina (1995)</td>\n",
       "      <td>Comedy|Romance</td>\n",
       "      <td>54</td>\n",
       "      <td>3.185185</td>\n",
       "    </tr>\n",
       "    <tr>\n",
       "      <th>...</th>\n",
       "      <td>...</td>\n",
       "      <td>...</td>\n",
       "      <td>...</td>\n",
       "      <td>...</td>\n",
       "      <td>...</td>\n",
       "    </tr>\n",
       "    <tr>\n",
       "      <th>8287</th>\n",
       "      <td>106782</td>\n",
       "      <td>Wolf of Wall Street, The (2013)</td>\n",
       "      <td>Comedy|Crime|Drama</td>\n",
       "      <td>54</td>\n",
       "      <td>3.916667</td>\n",
       "    </tr>\n",
       "    <tr>\n",
       "      <th>8354</th>\n",
       "      <td>109374</td>\n",
       "      <td>Grand Budapest Hotel, The (2014)</td>\n",
       "      <td>Comedy|Drama</td>\n",
       "      <td>52</td>\n",
       "      <td>3.778846</td>\n",
       "    </tr>\n",
       "    <tr>\n",
       "      <th>8358</th>\n",
       "      <td>109487</td>\n",
       "      <td>Interstellar (2014)</td>\n",
       "      <td>Sci-Fi|IMAX</td>\n",
       "      <td>73</td>\n",
       "      <td>3.993151</td>\n",
       "    </tr>\n",
       "    <tr>\n",
       "      <th>8457</th>\n",
       "      <td>112852</td>\n",
       "      <td>Guardians of the Galaxy (2014)</td>\n",
       "      <td>Action|Adventure|Sci-Fi</td>\n",
       "      <td>59</td>\n",
       "      <td>4.050847</td>\n",
       "    </tr>\n",
       "    <tr>\n",
       "      <th>8673</th>\n",
       "      <td>122904</td>\n",
       "      <td>Deadpool (2016)</td>\n",
       "      <td>Action|Adventure|Comedy|Sci-Fi</td>\n",
       "      <td>54</td>\n",
       "      <td>3.833333</td>\n",
       "    </tr>\n",
       "  </tbody>\n",
       "</table>\n",
       "<p>436 rows × 5 columns</p>\n",
       "</div>"
      ],
      "text/plain": [
       "      movieId                             title  \\\n",
       "0           1                  Toy Story (1995)   \n",
       "1           2                    Jumanji (1995)   \n",
       "2           3           Grumpier Old Men (1995)   \n",
       "5           6                       Heat (1995)   \n",
       "6           7                    Sabrina (1995)   \n",
       "...       ...                               ...   \n",
       "8287   106782   Wolf of Wall Street, The (2013)   \n",
       "8354   109374  Grand Budapest Hotel, The (2014)   \n",
       "8358   109487               Interstellar (2014)   \n",
       "8457   112852    Guardians of the Galaxy (2014)   \n",
       "8673   122904                   Deadpool (2016)   \n",
       "\n",
       "                                           genres  count      mean  \n",
       "0     Adventure|Animation|Children|Comedy|Fantasy    215  3.920930  \n",
       "1                      Adventure|Children|Fantasy    110  3.431818  \n",
       "2                                  Comedy|Romance     52  3.259615  \n",
       "5                           Action|Crime|Thriller    102  3.946078  \n",
       "6                                  Comedy|Romance     54  3.185185  \n",
       "...                                           ...    ...       ...  \n",
       "8287                           Comedy|Crime|Drama     54  3.916667  \n",
       "8354                                 Comedy|Drama     52  3.778846  \n",
       "8358                                  Sci-Fi|IMAX     73  3.993151  \n",
       "8457                      Action|Adventure|Sci-Fi     59  4.050847  \n",
       "8673               Action|Adventure|Comedy|Sci-Fi     54  3.833333  \n",
       "\n",
       "[436 rows x 5 columns]"
      ]
     },
     "execution_count": 107,
     "metadata": {},
     "output_type": "execute_result"
    }
   ],
   "source": [
    "movie_ratings_count_greater_than_50"
   ]
  },
  {
   "cell_type": "markdown",
   "id": "4463eb9a",
   "metadata": {},
   "source": [
    "## most popular based on  average user ratings"
   ]
  },
  {
   "cell_type": "code",
   "execution_count": 108,
   "id": "e7d390ed",
   "metadata": {},
   "outputs": [
    {
     "data": {
      "text/plain": [
       "movieId                                 318\n",
       "title      Shawshank Redemption, The (1994)\n",
       "genres                          Crime|Drama\n",
       "count                                   317\n",
       "mean                               4.429022\n",
       "Name: 277, dtype: object"
      ]
     },
     "execution_count": 108,
     "metadata": {},
     "output_type": "execute_result"
    }
   ],
   "source": [
    "movie_ratings_count_greater_than_50.loc[movie_ratings_count_greater_than_50['mean'].idxmax()]"
   ]
  },
  {
   "cell_type": "markdown",
   "id": "c29014c6",
   "metadata": {},
   "source": [
    "##  top 5 popular movies based on number of user ratings."
   ]
  },
  {
   "cell_type": "code",
   "execution_count": 109,
   "id": "a62c623f",
   "metadata": {},
   "outputs": [
    {
     "name": "stdout",
     "output_type": "stream",
     "text": [
      "      movieId                             title                       genres  \\\n",
      "314       356               Forrest Gump (1994)     Comedy|Drama|Romance|War   \n",
      "277       318  Shawshank Redemption, The (1994)                  Crime|Drama   \n",
      "257       296               Pulp Fiction (1994)  Comedy|Crime|Drama|Thriller   \n",
      "510       593  Silence of the Lambs, The (1991)        Crime|Horror|Thriller   \n",
      "1938     2571                Matrix, The (1999)       Action|Sci-Fi|Thriller   \n",
      "\n",
      "      count      mean  \n",
      "314     329  4.164134  \n",
      "277     317  4.429022  \n",
      "257     307  4.197068  \n",
      "510     279  4.161290  \n",
      "1938    278  4.192446  \n"
     ]
    }
   ],
   "source": [
    "sorted_by_ratings = movie_ratings_count_greater_than_50.sort_values(by='count', ascending=False)\n",
    "\n",
    "top_5_popular_movies = sorted_by_ratings.head(5)\n",
    "\n",
    "print(top_5_popular_movies[['movieId', 'title', 'genres', 'count', 'mean']])"
   ]
  },
  {
   "cell_type": "markdown",
   "id": "f6447b35",
   "metadata": {},
   "source": [
    "## Which Sci-Fi movie is \"third most popular\" based on the number of user ratings"
   ]
  },
  {
   "cell_type": "code",
   "execution_count": 110,
   "id": "0148747f",
   "metadata": {},
   "outputs": [
    {
     "name": "stdout",
     "output_type": "stream",
     "text": [
      "The third most popular Sci-Fi movie is: Terminator 2: Judgment Day (1991)\n"
     ]
    }
   ],
   "source": [
    "\n",
    "scifi_movies =  movie_ratings_count_greater_than_50[movies['genres'].str.contains('Sci-Fi')]\n",
    "\n",
    "movie_popularity = ratings[ratings['movieId'].isin(scifi_movies['movieId'])] \\\n",
    "    .groupby('movieId')['rating'].count() \\\n",
    "    .sort_values(ascending=False)\n",
    "\n",
    "third_most_popular_id = movie_popularity.index[2]\n",
    "\n",
    "third_most_popular = movies.loc[movies['movieId'] == third_most_popular_id, 'title'].iloc[0]\n",
    "\n",
    "print(f\"The third most popular Sci-Fi movie is: {third_most_popular}\")"
   ]
  },
  {
   "cell_type": "code",
   "execution_count": null,
   "id": "7779b3f7",
   "metadata": {},
   "outputs": [],
   "source": []
  },
  {
   "cell_type": "code",
   "execution_count": 169,
   "id": "d4e68690",
   "metadata": {},
   "outputs": [
    {
     "name": "stdout",
     "output_type": "stream",
     "text": [
      "<class 'pandas.core.frame.DataFrame'>\n",
      "Int64Index: 436 entries, 0 to 8673\n",
      "Data columns (total 5 columns):\n",
      " #   Column   Non-Null Count  Dtype  \n",
      "---  ------   --------------  -----  \n",
      " 0   movieId  436 non-null    int64  \n",
      " 1   title    436 non-null    object \n",
      " 2   genres   436 non-null    object \n",
      " 3   count    436 non-null    int64  \n",
      " 4   mean     436 non-null    float64\n",
      "dtypes: float64(1), int64(2), object(2)\n",
      "memory usage: 36.6+ KB\n"
     ]
    }
   ],
   "source": [
    "movie_ratings_count_greater_than_50.info()"
   ]
  },
  {
   "cell_type": "markdown",
   "id": "87378b95",
   "metadata": {},
   "source": [
    "# Web Scraping "
   ]
  },
  {
   "cell_type": "code",
   "execution_count": 183,
   "id": "cb9392bf",
   "metadata": {},
   "outputs": [],
   "source": [
    "merged_df = pd.merge(movie_ratings_count_greater_than_50, links, on=\"movieId\", how=\"inner\")"
   ]
  },
  {
   "cell_type": "code",
   "execution_count": 184,
   "id": "a1234fd9",
   "metadata": {},
   "outputs": [
    {
     "name": "stdout",
     "output_type": "stream",
     "text": [
      "<class 'pandas.core.frame.DataFrame'>\n",
      "Int64Index: 436 entries, 0 to 435\n",
      "Data columns (total 7 columns):\n",
      " #   Column   Non-Null Count  Dtype  \n",
      "---  ------   --------------  -----  \n",
      " 0   movieId  436 non-null    int64  \n",
      " 1   title    436 non-null    object \n",
      " 2   genres   436 non-null    object \n",
      " 3   count    436 non-null    int64  \n",
      " 4   mean     436 non-null    float64\n",
      " 5   imdbId   436 non-null    int64  \n",
      " 6   tmdbId   436 non-null    float64\n",
      "dtypes: float64(2), int64(3), object(2)\n",
      "memory usage: 27.2+ KB\n"
     ]
    }
   ],
   "source": [
    "merged_df.info()"
   ]
  },
  {
   "cell_type": "code",
   "execution_count": 185,
   "id": "bd0dbed8",
   "metadata": {},
   "outputs": [],
   "source": [
    "import requests\n",
    "import os\n",
    "from bs4 import BeautifulSoup"
   ]
  },
  {
   "cell_type": "code",
   "execution_count": 186,
   "id": "e7ae7720",
   "metadata": {},
   "outputs": [
    {
     "name": "stdout",
     "output_type": "stream",
     "text": [
      "<class 'pandas.core.frame.DataFrame'>\n",
      "RangeIndex: 9742 entries, 0 to 9741\n",
      "Data columns (total 3 columns):\n",
      " #   Column   Non-Null Count  Dtype  \n",
      "---  ------   --------------  -----  \n",
      " 0   movieId  9742 non-null   int64  \n",
      " 1   imdbId   9742 non-null   int64  \n",
      " 2   tmdbId   9734 non-null   float64\n",
      "dtypes: float64(1), int64(2)\n",
      "memory usage: 228.5 KB\n"
     ]
    }
   ],
   "source": [
    "links.info()"
   ]
  },
  {
   "cell_type": "code",
   "execution_count": 187,
   "id": "f465ebeb",
   "metadata": {},
   "outputs": [],
   "source": [
    "import requests\n",
    "import numpy as np\n",
    "from bs4 import BeautifulSoup\n",
    "\n",
    "def scrapper(imdbId):\n",
    "    id = str(int(imdbId))\n",
    "    n_zeroes = 7 - len(id)\n",
    "    new_id = \"0\"*n_zeroes + id\n",
    "    URL = f\"https://www.imdb.com/title/tt{new_id}/\"\n",
    "    request_header = {\n",
    "        'User-Agent': 'Mozilla/5.0 (Windows NT 10.0; Win64; x64) AppleWebKit/537.36 (KHTML, like Gecko) Chrome/91.0.4472.124 Safari/537.36',\n",
    "        'Accept-Language': 'en-US,en;q=0.9',\n",
    "        'Accept-Encoding': 'gzip, deflate, br',\n",
    "        'Accept': 'text/html,application/xhtml+xml,application/xml;q=0.9,image/webp,image/apng,*/*;q=0.8',\n",
    "        'DNT': '1',\n",
    "        'Connection': 'keep-alive',\n",
    "        'Upgrade-Insecure-Requests': '1'\n",
    "    }\n",
    "    \n",
    "    try:\n",
    "        response = requests.get(URL, headers=request_header)\n",
    "        response.raise_for_status()\n",
    "        \n",
    "        \n",
    "        soup = BeautifulSoup(response.text, 'html.parser')\n",
    "        \n",
    "        rating = None\n",
    "        \n",
    "        rating_elem = soup.find('span', {'data-testid': 'hero-rating-bar__aggregate-rating__score'})\n",
    "        if rating_elem:\n",
    "            rating = rating_elem.find('span').text.strip()\n",
    "        \n",
    "        if not rating:\n",
    "            rating_elem = soup.select_one('span.sc-7ab21ed2-1.jGRxWM')\n",
    "            if rating_elem:\n",
    "                rating = rating_elem.text.strip()\n",
    "        \n",
    "        if not rating:\n",
    "            import re\n",
    "            rating_pattern = re.compile(r'\\d+\\.?\\d*/10')\n",
    "            for span in soup.find_all('span'):\n",
    "                if rating_pattern.search(span.text):\n",
    "                    rating = span.text.strip()\n",
    "                    break\n",
    "        \n",
    "        if rating:\n",
    "            return rating[0:3]\n",
    "        else:\n",
    "            print(\"Rating not found in the HTML content.\")\n",
    "            return np.nan\n",
    "        \n",
    "    except requests.RequestException as e:\n",
    "        print(f\"An error occurred: {e}\")\n",
    "        return np.nan"
   ]
  },
  {
   "cell_type": "code",
   "execution_count": 190,
   "id": "f1c0d172",
   "metadata": {},
   "outputs": [
    {
     "name": "stdout",
     "output_type": "stream",
     "text": [
      "\n"
     ]
    }
   ],
   "source": [
    "imdb_ids = merged_df['imdbId'].tolist()\n",
    "\n",
    "ratings = []\n",
    "\n",
    "for i in imdb_ids:\n",
    "    \n",
    "    ratings.append(scrapper(i))"
   ]
  },
  {
   "cell_type": "code",
   "execution_count": 199,
   "id": "b42afac3",
   "metadata": {},
   "outputs": [
    {
     "name": "stdout",
     "output_type": "stream",
     "text": [
      "['8.3', '7.1', '6.7', '8.3', '6.3', '7.2', '6.8', '8.2', '7.7', '6.4', '6.9', '7.5', '8.0', '6.9', '7.5', '6.9', '8.6', '6.7', '8.5', '7.3', '7.2', '6.1', '7.0', '8.3', '8.2', '7.2', '6.8', '7.7', '5.4', '6.2', '5.3', '7.3', '7.1', '7.6', '6.0', '5.6', '5.6', '6.0', '6.3', '7.7', '6.2', '7.3', '7.8', '7.5', '8.6', '7.5', '7.2', '6.6', '8.5', '8.9', '7.5', '7.0', '6.6', '9.3', '6.6', '7.7', '6.8', '6.9', '6.9', '6.7', '7.5', '8.8', '7.1', '8.5', '6.9', '7.0', '6.5', '7.3', '7.3', '6.8', '5.5', '5.6', '6.5', '5.4', '6.9', '6.7', '6.9', '7.8', '6.6', '7.2', '8.2', '6.5', '7.1', '7.7', '7.5', '6.7', '9.0', '6.8', '8.1', '7.9', '6.4', '7.8', '7.9', '7.7', '7.1', '8.0', '8.6', '8.0', '7.5', '8.6', '7.6', '8.0', '7.5', '7.1', '8.1', '7.2', '6.4', '6.5', '6.3', '7.4', '6.5', '8.3', '8.1', '7.0', '6.1', '6.2', '5.7', '9.2', '8.3', '8.5', '8.3', '8.5', '8.1', '8.3', '8.3', '8.6', '7.8', '8.1', '8.2', '7.8', '7.5', '8.0', '8.3', '8.1', '7.9', '6.9', '7.5', '8.2', '8.3', '8.7', '8.7', '8.0', '8.4', '7.8', '8.4', '8.8', '9.0', '8.2', '8.3', '8.4', '8.3', '8.7', '8.5', '7.4', '8.5', '7.9', '9.0', '8.2', '8.4', '8.0', '8.3', '8.1', '8.1', '8.0', '8.1', '8.4', '8.1', '8.0', '8.5', '8.1', '8.0', '7.7', '9/1', '8.2', '7.5', '8.0', '7.7', '7.6', '7.1', '7.7', '7.1', '7.2', '8.1', '6.4', '7.3', '7.3', '7.4', '7.7', '6.9', '7.3', '7.0', '7.6', '6.6', '6.9', '7.3', '7.3', '7.5', '6.5', '7.5', '8.2', '7.7', '7.2', '7.2', '7.5', '7.7', '7.3', '8.2', '8.3', '7.9', '8.1', '6.9', '7.7', '6.7', '7.1', '8.1', '8.0', '7.8', '8.1', '7.6', '7.7', '6.8', '7.8', '7.4', '8.6', '6.4', '7.6', '7.3', '7.6', '6.3', '7.5', '7.1', '7.5', '7.8', '7.7', '7.9', '7.6', '7.5', '8.6', '8.5', '7.3', '7.2', '7.6', '7.1', '6.9', '6.6', '7.6', '8.0', '8.1', '8.7', '7.3', '7.2', '7.1', '6.5', '7.4', '7.4', '7.2', '6.7', '7.6', '6.5', '7.7', '4.9', '7.0', '6.5', '7.5', '7.8', '8.2', '7.7', '7.3', '7.9', '8.3', '7.5', '7.8', '7.7', '8.8', '7.6', '7.7', '7.7', '7.1', '7.3', '7.3', '7.9', '8.6', '8.0', '7.4', '7.0', '7.4', '7.4', '7.6', '7.4', '6.8', '7.8', '7.6', '7.2', '8.5', '6.1', '7.7', '6.5', '7.1', '7.2', '7.3', '7.9', '7.5', '7.0', '8.3', '5.6', '7.3', '7.9', '8.2', '6.4', '7.8', '6.3', '7.7', '7.6', '8.4', '7.5', '6.8', '8.3', '7.9', '7.6', '7.2', '6.5', '7.6', '7.7', '6.5', '7.9', '8.0', '8.1', '7.6', '7.7', '8.3', '7.6', '8.9', '8.2', '7.5', '6.6', '7.4', '6.6', '7.8', '7.6', '6.2', '6.2', '6.8', '8.6', '8.0', '7.4', '8.8', '7.5', '8.1', '8.6', '7.4', '7.2', '6.8', '8.2', '7.0', '7.5', '8.1', '7.7', '7.2', '7.9', '8.2', '6.7', '7.6', '7.8', '8.0', '9.0', '8.3', '8.0', '7.3', '7.9', '7.5', '7.1', '7.1', '7.7', '7.9', '8.0', '8.1', '6.7', '8.0', '7.6', '6.5', '8.2', '7.0', '7.1', '7.7', '6.9', '8.1', '6.6', '7.4', '7.8', '7.4', '8.2', '8.5', '7.9', '8.5', '8.0', '8.0', '8.1', '7.8', '7.6', '6.9', '7.1', '7.5', '8.0', '7.6', '8.2', '7.2', '7.4', '9.0', '7.9', '7.6', '8.4', '8.0', '8.4', '7.9', '8.3', '7.7', '7.6', '7.9', '7.5', '7.9', '7.6', '8.2', '8.1', '8.3', '8.8', '7.8', '8.0', '8.0', '7.2', '8.4', '8.5', '8.2', '8.1', '8.7', '8.0', '8.0']\n"
     ]
    }
   ],
   "source": [
    "print(ratings)"
   ]
  },
  {
   "cell_type": "code",
   "execution_count": 204,
   "id": "46ab490f",
   "metadata": {},
   "outputs": [],
   "source": [
    "for i in range(len(ratings)):\n",
    "    if ratings[i] == \"9/1\":\n",
    "        ratings[i] = float(9.1)\n",
    "    ratings[i] = float(ratings[i])"
   ]
  },
  {
   "cell_type": "code",
   "execution_count": 205,
   "id": "4b8565fa",
   "metadata": {},
   "outputs": [],
   "source": [
    "merged_df['imdb_rating'] = ratings"
   ]
  },
  {
   "cell_type": "code",
   "execution_count": 206,
   "id": "efa5fb28",
   "metadata": {},
   "outputs": [
    {
     "data": {
      "text/html": [
       "<div>\n",
       "<style scoped>\n",
       "    .dataframe tbody tr th:only-of-type {\n",
       "        vertical-align: middle;\n",
       "    }\n",
       "\n",
       "    .dataframe tbody tr th {\n",
       "        vertical-align: top;\n",
       "    }\n",
       "\n",
       "    .dataframe thead th {\n",
       "        text-align: right;\n",
       "    }\n",
       "</style>\n",
       "<table border=\"1\" class=\"dataframe\">\n",
       "  <thead>\n",
       "    <tr style=\"text-align: right;\">\n",
       "      <th></th>\n",
       "      <th>movieId</th>\n",
       "      <th>title</th>\n",
       "      <th>genres</th>\n",
       "      <th>count</th>\n",
       "      <th>mean</th>\n",
       "      <th>imdbId</th>\n",
       "      <th>tmdbId</th>\n",
       "      <th>imdb_rating</th>\n",
       "    </tr>\n",
       "  </thead>\n",
       "  <tbody>\n",
       "    <tr>\n",
       "      <th>0</th>\n",
       "      <td>1</td>\n",
       "      <td>Toy Story (1995)</td>\n",
       "      <td>Adventure|Animation|Children|Comedy|Fantasy</td>\n",
       "      <td>215</td>\n",
       "      <td>3.920930</td>\n",
       "      <td>114709</td>\n",
       "      <td>862.0</td>\n",
       "      <td>8.3</td>\n",
       "    </tr>\n",
       "    <tr>\n",
       "      <th>1</th>\n",
       "      <td>2</td>\n",
       "      <td>Jumanji (1995)</td>\n",
       "      <td>Adventure|Children|Fantasy</td>\n",
       "      <td>110</td>\n",
       "      <td>3.431818</td>\n",
       "      <td>113497</td>\n",
       "      <td>8844.0</td>\n",
       "      <td>7.1</td>\n",
       "    </tr>\n",
       "    <tr>\n",
       "      <th>2</th>\n",
       "      <td>3</td>\n",
       "      <td>Grumpier Old Men (1995)</td>\n",
       "      <td>Comedy|Romance</td>\n",
       "      <td>52</td>\n",
       "      <td>3.259615</td>\n",
       "      <td>113228</td>\n",
       "      <td>15602.0</td>\n",
       "      <td>6.7</td>\n",
       "    </tr>\n",
       "    <tr>\n",
       "      <th>3</th>\n",
       "      <td>6</td>\n",
       "      <td>Heat (1995)</td>\n",
       "      <td>Action|Crime|Thriller</td>\n",
       "      <td>102</td>\n",
       "      <td>3.946078</td>\n",
       "      <td>113277</td>\n",
       "      <td>949.0</td>\n",
       "      <td>8.3</td>\n",
       "    </tr>\n",
       "    <tr>\n",
       "      <th>4</th>\n",
       "      <td>7</td>\n",
       "      <td>Sabrina (1995)</td>\n",
       "      <td>Comedy|Romance</td>\n",
       "      <td>54</td>\n",
       "      <td>3.185185</td>\n",
       "      <td>114319</td>\n",
       "      <td>11860.0</td>\n",
       "      <td>6.3</td>\n",
       "    </tr>\n",
       "  </tbody>\n",
       "</table>\n",
       "</div>"
      ],
      "text/plain": [
       "   movieId                    title  \\\n",
       "0        1         Toy Story (1995)   \n",
       "1        2           Jumanji (1995)   \n",
       "2        3  Grumpier Old Men (1995)   \n",
       "3        6              Heat (1995)   \n",
       "4        7           Sabrina (1995)   \n",
       "\n",
       "                                        genres  count      mean  imdbId  \\\n",
       "0  Adventure|Animation|Children|Comedy|Fantasy    215  3.920930  114709   \n",
       "1                   Adventure|Children|Fantasy    110  3.431818  113497   \n",
       "2                               Comedy|Romance     52  3.259615  113228   \n",
       "3                        Action|Crime|Thriller    102  3.946078  113277   \n",
       "4                               Comedy|Romance     54  3.185185  114319   \n",
       "\n",
       "    tmdbId  imdb_rating  \n",
       "0    862.0          8.3  \n",
       "1   8844.0          7.1  \n",
       "2  15602.0          6.7  \n",
       "3    949.0          8.3  \n",
       "4  11860.0          6.3  "
      ]
     },
     "execution_count": 206,
     "metadata": {},
     "output_type": "execute_result"
    }
   ],
   "source": [
    "merged_df.head()"
   ]
  },
  {
   "cell_type": "markdown",
   "id": "96aa54de",
   "metadata": {},
   "source": [
    "## movieId of the movie which has the highest IMDB rating"
   ]
  },
  {
   "cell_type": "code",
   "execution_count": 207,
   "id": "43352e89",
   "metadata": {},
   "outputs": [
    {
     "name": "stdout",
     "output_type": "stream",
     "text": [
      "Movie ID: 318\n"
     ]
    }
   ],
   "source": [
    "highest_rated_movie = merged_df.loc[merged_df['imdb_rating'].idxmax()]\n",
    "\n",
    "print(f\"Movie ID: {highest_rated_movie['movieId']}\")"
   ]
  },
  {
   "cell_type": "markdown",
   "id": "49390a05",
   "metadata": {},
   "source": [
    "## movieId of the \"Sci-Fi\" movie which has the highest IMDB rating."
   ]
  },
  {
   "cell_type": "code",
   "execution_count": 210,
   "id": "887354ed",
   "metadata": {},
   "outputs": [
    {
     "name": "stdout",
     "output_type": "stream",
     "text": [
      "Movie ID: 79132\n",
      "Movie ID: Inception (2010)\n"
     ]
    }
   ],
   "source": [
    "scifi_movies =  merged_df[merged_df['genres'].str.contains('Sci-Fi')]\n",
    "\n",
    "highest_rated_movie = scifi_movies.loc[scifi_movies['imdb_rating'].idxmax()]\n",
    "\n",
    "print(f\"Movie ID: {highest_rated_movie['movieId']}\")\n",
    "\n",
    "print(f\"Movie ID: {highest_rated_movie['title']}\")"
   ]
  },
  {
   "cell_type": "code",
   "execution_count": null,
   "id": "10d646d5",
   "metadata": {},
   "outputs": [],
   "source": []
  },
  {
   "cell_type": "code",
   "execution_count": 69,
   "id": "3fd42f4a",
   "metadata": {},
   "outputs": [
    {
     "name": "stdout",
     "output_type": "stream",
     "text": [
      "<class 'pandas.core.frame.DataFrame'>\n",
      "RangeIndex: 3683 entries, 0 to 3682\n",
      "Data columns (total 4 columns):\n",
      " #   Column     Non-Null Count  Dtype \n",
      "---  ------     --------------  ----- \n",
      " 0   userId     3683 non-null   int64 \n",
      " 1   movieId    3683 non-null   int64 \n",
      " 2   tag        3683 non-null   object\n",
      " 3   timestamp  3683 non-null   int64 \n",
      "dtypes: int64(3), object(1)\n",
      "memory usage: 115.2+ KB\n"
     ]
    }
   ],
   "source": [
    "tags.info()"
   ]
  },
  {
   "cell_type": "code",
   "execution_count": 17,
   "id": "15a835c7",
   "metadata": {},
   "outputs": [
    {
     "data": {
      "text/plain": [
       "5.0"
      ]
     },
     "execution_count": 17,
     "metadata": {},
     "output_type": "execute_result"
    }
   ],
   "source": [
    "max_rating"
   ]
  },
  {
   "cell_type": "code",
   "execution_count": 19,
   "id": "3b5ec187",
   "metadata": {},
   "outputs": [],
   "source": [
    "highest_movie_rating_id = ratings[ratings['rating'] == max_rating]['movieId']"
   ]
  },
  {
   "cell_type": "code",
   "execution_count": 21,
   "id": "7eb53c9a",
   "metadata": {},
   "outputs": [
    {
     "data": {
      "text/plain": [
       "[47,\n",
       " 50,\n",
       " 101,\n",
       " 151,\n",
       " 157,\n",
       " 163,\n",
       " 216,\n",
       " 231,\n",
       " 260,\n",
       " 333,\n",
       " 362,\n",
       " 457,\n",
       " 527,\n",
       " 553,\n",
       " 596,\n",
       " 608,\n",
       " 661,\n",
       " 919,\n",
       " 923,\n",
       " 940,\n",
       " 954,\n",
       " 1023,\n",
       " 1024,\n",
       " 1025,\n",
       " 1029,\n",
       " 1031,\n",
       " 1032,\n",
       " 1049,\n",
       " 1073,\n",
       " 1080,\n",
       " 1089,\n",
       " 1092,\n",
       " 1097,\n",
       " 1136,\n",
       " 1196,\n",
       " 1197,\n",
       " 1198,\n",
       " 1206,\n",
       " 1210,\n",
       " 1213,\n",
       " 1220,\n",
       " 1222,\n",
       " 1224,\n",
       " 1226,\n",
       " 1240,\n",
       " 1256,\n",
       " 1270,\n",
       " 1275,\n",
       " 1278,\n",
       " 1282,\n",
       " 1291,\n",
       " 1298,\n",
       " 1517,\n",
       " 1573,\n",
       " 1587,\n",
       " 1617,\n",
       " 1625,\n",
       " 1732,\n",
       " 1804,\n",
       " 1927,\n",
       " 1954,\n",
       " 2005,\n",
       " 2018,\n",
       " 2033,\n",
       " 2048,\n",
       " 2058,\n",
       " 2078,\n",
       " 2090,\n",
       " 2094,\n",
       " 2115,\n",
       " 2116,\n",
       " 2137,\n",
       " 2139,\n",
       " 2141,\n",
       " 2161,\n",
       " 2291,\n",
       " 2329,\n",
       " 2353,\n",
       " 2387,\n",
       " 2395,\n",
       " 2427,\n",
       " 2459,\n",
       " 2470,\n",
       " 2502,\n",
       " 2529,\n",
       " 2542,\n",
       " 2571,\n",
       " 2580,\n",
       " 2596,\n",
       " 2641,\n",
       " 2654,\n",
       " 2692,\n",
       " 2700,\n",
       " 2716,\n",
       " 2761,\n",
       " 2858,\n",
       " 2872,\n",
       " 2899,\n",
       " 2944,\n",
       " 2947,\n",
       " 2948,\n",
       " 2949,\n",
       " 2959,\n",
       " 2987,\n",
       " 2991,\n",
       " 2993,\n",
       " 3033,\n",
       " 3034,\n",
       " 3052,\n",
       " 3053,\n",
       " 3147,\n",
       " 3253,\n",
       " 3273,\n",
       " 3386,\n",
       " 3441,\n",
       " 3448,\n",
       " 3450,\n",
       " 3578,\n",
       " 3671,\n",
       " 3702,\n",
       " 3703,\n",
       " 3729,\n",
       " 3793,\n",
       " 5060,\n",
       " 60756,\n",
       " 80906,\n",
       " 89774,\n",
       " 106782,\n",
       " 122882,\n",
       " 131724,\n",
       " 849,\n",
       " 2851,\n",
       " 3703,\n",
       " 4518,\n",
       " 5181,\n",
       " 5746,\n",
       " 5919,\n",
       " 6835,\n",
       " 7991,\n",
       " 70946,\n",
       " 125,\n",
       " 162,\n",
       " 176,\n",
       " 215,\n",
       " 232,\n",
       " 260,\n",
       " 265,\n",
       " 319,\n",
       " 342,\n",
       " 457,\n",
       " 475,\n",
       " 492,\n",
       " 538,\n",
       " 593,\n",
       " 608,\n",
       " 898,\n",
       " 908,\n",
       " 910,\n",
       " 912,\n",
       " 914,\n",
       " 919,\n",
       " 920,\n",
       " 930,\n",
       " 1046,\n",
       " 1077,\n",
       " 1080,\n",
       " 1084,\n",
       " 1086,\n",
       " 1103,\n",
       " 1136,\n",
       " 1188,\n",
       " 1196,\n",
       " 1197,\n",
       " 1203,\n",
       " 1250,\n",
       " 1282,\n",
       " 1283,\n",
       " 1449,\n",
       " 1733,\n",
       " 1834,\n",
       " 1947,\n",
       " 1967,\n",
       " 2078,\n",
       " 2150,\n",
       " 2174,\n",
       " 2186,\n",
       " 2204,\n",
       " 2390,\n",
       " 2583,\n",
       " 2599,\n",
       " 2692,\n",
       " 2791,\n",
       " 2843,\n",
       " 2858,\n",
       " 2926,\n",
       " 3044,\n",
       " 3083,\n",
       " 3365,\n",
       " 3508,\n",
       " 3851,\n",
       " 4034,\n",
       " 4239,\n",
       " 4765,\n",
       " 4967,\n",
       " 58,\n",
       " 247,\n",
       " 290,\n",
       " 296,\n",
       " 475,\n",
       " 527,\n",
       " 590,\n",
       " 594,\n",
       " 595,\n",
       " 596,\n",
       " 3,\n",
       " 5,\n",
       " 22,\n",
       " 36,\n",
       " 86,\n",
       " 110,\n",
       " 160,\n",
       " 168,\n",
       " 230,\n",
       " 248,\n",
       " 257,\n",
       " 262,\n",
       " 277,\n",
       " 314,\n",
       " 316,\n",
       " 318,\n",
       " 333,\n",
       " 337,\n",
       " 349,\n",
       " 350,\n",
       " 356,\n",
       " 364,\n",
       " 368,\n",
       " 377,\n",
       " 432,\n",
       " 457,\n",
       " 480,\n",
       " 500,\n",
       " 553,\n",
       " 587,\n",
       " 588,\n",
       " 590,\n",
       " 595,\n",
       " 616,\n",
       " 709,\n",
       " 736,\n",
       " 780,\n",
       " 783,\n",
       " 830,\n",
       " 1049,\n",
       " 260,\n",
       " 356,\n",
       " 466,\n",
       " 480,\n",
       " 593,\n",
       " 1219,\n",
       " 1240,\n",
       " 1270,\n",
       " 1584,\n",
       " 2019,\n",
       " 2529,\n",
       " 3869,\n",
       " 5618,\n",
       " 34,\n",
       " 50,\n",
       " 185,\n",
       " 253,\n",
       " 318,\n",
       " 357,\n",
       " 364,\n",
       " 380,\n",
       " 527,\n",
       " 590,\n",
       " 923,\n",
       " 1198,\n",
       " 1270,\n",
       " 2300,\n",
       " 4993,\n",
       " 5481,\n",
       " 5902,\n",
       " 5952,\n",
       " 7458,\n",
       " 8533,\n",
       " 8869,\n",
       " 33794,\n",
       " 49272,\n",
       " 49286,\n",
       " 71579,\n",
       " 79091,\n",
       " 81845,\n",
       " 91529,\n",
       " 92259,\n",
       " 96079,\n",
       " 136020,\n",
       " 140110,\n",
       " 6,\n",
       " 110,\n",
       " 150,\n",
       " 349,\n",
       " 356,\n",
       " 457,\n",
       " 529,\n",
       " 593,\n",
       " 1101,\n",
       " 1408,\n",
       " 1584,\n",
       " 1693,\n",
       " 1721,\n",
       " 1784,\n",
       " 2028,\n",
       " 168,\n",
       " 222,\n",
       " 256,\n",
       " 838,\n",
       " 1357,\n",
       " 1721,\n",
       " 2072,\n",
       " 2485,\n",
       " 2572,\n",
       " 2581,\n",
       " 2717,\n",
       " 3668,\n",
       " 6942,\n",
       " 8533,\n",
       " 40629,\n",
       " 63992,\n",
       " 47,\n",
       " 1198,\n",
       " 2571,\n",
       " 3578,\n",
       " 3996,\n",
       " 4011,\n",
       " 47,\n",
       " 95,\n",
       " 110,\n",
       " 266,\n",
       " 282,\n",
       " 337,\n",
       " 509,\n",
       " 260,\n",
       " 318,\n",
       " 356,\n",
       " 527,\n",
       " 589,\n",
       " 1196,\n",
       " 1200,\n",
       " 1210,\n",
       " 1214,\n",
       " 1270,\n",
       " 2001,\n",
       " 2011,\n",
       " 2150,\n",
       " 3147,\n",
       " 3156,\n",
       " 3510,\n",
       " 3578,\n",
       " 4720,\n",
       " 4995,\n",
       " 5989,\n",
       " 33493,\n",
       " 84152,\n",
       " 122886,\n",
       " 152077,\n",
       " 166528,\n",
       " 1199,\n",
       " 260,\n",
       " 296,\n",
       " 318,\n",
       " 356,\n",
       " 858,\n",
       " 1196,\n",
       " 1201,\n",
       " 1206,\n",
       " 1210,\n",
       " 1240,\n",
       " 1732,\n",
       " 2571,\n",
       " 5618,\n",
       " 5952,\n",
       " 6350,\n",
       " 7099,\n",
       " 50,\n",
       " 318,\n",
       " 923,\n",
       " 1201,\n",
       " 1203,\n",
       " 1209,\n",
       " 1221,\n",
       " 353,\n",
       " 551,\n",
       " 589,\n",
       " 592,\n",
       " 903,\n",
       " 904,\n",
       " 913,\n",
       " 1097,\n",
       " 1197,\n",
       " 1198,\n",
       " 1285,\n",
       " 1291,\n",
       " 1372,\n",
       " 1374,\n",
       " 1527,\n",
       " 1658,\n",
       " 1967,\n",
       " 2723,\n",
       " 2918,\n",
       " 2959,\n",
       " 2968,\n",
       " 2987,\n",
       " 3070,\n",
       " 3358,\n",
       " 3396,\n",
       " 3477,\n",
       " 48,\n",
       " 364,\n",
       " 551,\n",
       " 588,\n",
       " 594,\n",
       " 595,\n",
       " 661,\n",
       " 720,\n",
       " 919,\n",
       " 1025,\n",
       " 1073,\n",
       " 1097,\n",
       " 1148,\n",
       " 1380,\n",
       " 1907,\n",
       " 1947,\n",
       " 2005,\n",
       " 2081,\n",
       " 2083,\n",
       " 2135,\n",
       " 2300,\n",
       " 2394,\n",
       " 2657,\n",
       " 2709,\n",
       " 2804,\n",
       " 2987,\n",
       " 3034,\n",
       " 3114,\n",
       " 3159,\n",
       " 3396,\n",
       " 3397,\n",
       " 3398,\n",
       " 3549,\n",
       " 3751,\n",
       " 4039,\n",
       " 4246,\n",
       " 4306,\n",
       " 4993,\n",
       " 4995,\n",
       " 5218,\n",
       " 5618,\n",
       " 5952,\n",
       " 5991,\n",
       " 6345,\n",
       " 10,\n",
       " 370,\n",
       " 1270,\n",
       " 1722,\n",
       " 2011,\n",
       " 2012,\n",
       " 2706,\n",
       " 3082,\n",
       " 5872,\n",
       " 7573,\n",
       " 47997,\n",
       " 318,\n",
       " 356,\n",
       " 541,\n",
       " 1193,\n",
       " 1952,\n",
       " 3489,\n",
       " 7438,\n",
       " 49272,\n",
       " 541,\n",
       " 1212,\n",
       " 1222,\n",
       " 1232,\n",
       " 1233,\n",
       " 1258,\n",
       " 1284,\n",
       " 3949,\n",
       " 6440,\n",
       " 7587,\n",
       " 260,\n",
       " 527,\n",
       " 1198,\n",
       " 2028,\n",
       " 2571,\n",
       " 3578,\n",
       " 4993,\n",
       " 5952,\n",
       " 7153,\n",
       " 58559,\n",
       " 60069,\n",
       " 68157,\n",
       " 68954,\n",
       " 79132,\n",
       " 91529,\n",
       " 116797,\n",
       " 122912,\n",
       " 177593,\n",
       " 180095,\n",
       " 187593,\n",
       " 34,\n",
       " 62,\n",
       " 356,\n",
       " 745,\n",
       " 911,\n",
       " 1035,\n",
       " 1097,\n",
       " 1148,\n",
       " 1197,\n",
       " 1198,\n",
       " 1207,\n",
       " 1262,\n",
       " 1270,\n",
       " 1287,\n",
       " 1721,\n",
       " 1947,\n",
       " 2150,\n",
       " 2151,\n",
       " 2478,\n",
       " 2565,\n",
       " 2628,\n",
       " 3451,\n",
       " 3489,\n",
       " 2021,\n",
       " 7842,\n",
       " 53123,\n",
       " 72998,\n",
       " 924,\n",
       " 953,\n",
       " 1201,\n",
       " 1250,\n",
       " 1272,\n",
       " 1408,\n",
       " 1617,\n",
       " 2028,\n",
       " 3578,\n",
       " 5995,\n",
       " 27611,\n",
       " 68237,\n",
       " 82459,\n",
       " 110,\n",
       " 260,\n",
       " 318,\n",
       " 1196,\n",
       " 1198,\n",
       " 1210,\n",
       " 1291,\n",
       " 2571,\n",
       " 4993,\n",
       " 5952,\n",
       " 7153,\n",
       " 33794,\n",
       " 58559,\n",
       " 59315,\n",
       " 60069,\n",
       " 68358,\n",
       " 68954,\n",
       " 79132,\n",
       " 91529,\n",
       " 93510,\n",
       " 95510,\n",
       " 96821,\n",
       " 109487,\n",
       " 111759,\n",
       " 112852,\n",
       " 115617,\n",
       " 122904,\n",
       " 1,\n",
       " 377,\n",
       " 588,\n",
       " 648,\n",
       " 733,\n",
       " 784,\n",
       " 912,\n",
       " 1036,\n",
       " 1057,\n",
       " 1197,\n",
       " 1278,\n",
       " 1282,\n",
       " 1361,\n",
       " 1363,\n",
       " 1391,\n",
       " 5060,\n",
       " 50,\n",
       " 58,\n",
       " 194,\n",
       " 260,\n",
       " 265,\n",
       " 272,\n",
       " 296,\n",
       " 318,\n",
       " 345,\n",
       " 497,\n",
       " 538,\n",
       " 592,\n",
       " 593,\n",
       " 608,\n",
       " 912,\n",
       " 1036,\n",
       " 1073,\n",
       " 1104,\n",
       " 1197,\n",
       " 1198,\n",
       " 1391,\n",
       " 28,\n",
       " 36,\n",
       " 39,\n",
       " 50,\n",
       " 110,\n",
       " 265,\n",
       " 296,\n",
       " 307,\n",
       " 337,\n",
       " 339,\n",
       " 356,\n",
       " 428,\n",
       " 446,\n",
       " 457,\n",
       " 509,\n",
       " 527,\n",
       " 562,\n",
       " 588,\n",
       " 593,\n",
       " 613,\n",
       " 838,\n",
       " 914,\n",
       " 919,\n",
       " 994,\n",
       " 1060,\n",
       " 1210,\n",
       " 1245,\n",
       " 1249,\n",
       " 1280,\n",
       " 1446,\n",
       " 1545,\n",
       " 1617,\n",
       " 1639,\n",
       " 1641,\n",
       " 1653,\n",
       " 1673,\n",
       " 1678,\n",
       " 1704,\n",
       " 1719,\n",
       " 1923,\n",
       " 2028,\n",
       " 2355,\n",
       " 2357,\n",
       " 2571,\n",
       " 2580,\n",
       " 2943,\n",
       " 10,\n",
       " 2273,\n",
       " 3793,\n",
       " 3996,\n",
       " 4446,\n",
       " 5349,\n",
       " 6333,\n",
       " 6539,\n",
       " 6618,\n",
       " 6711,\n",
       " 6874,\n",
       " 8636,\n",
       " 27801,\n",
       " 45499,\n",
       " 21,\n",
       " 50,\n",
       " 60,\n",
       " 62,\n",
       " 150,\n",
       " 185,\n",
       " 261,\n",
       " 339,\n",
       " 590,\n",
       " 150,\n",
       " 165,\n",
       " 231,\n",
       " 296,\n",
       " 316,\n",
       " 344,\n",
       " 593,\n",
       " 671,\n",
       " 1061,\n",
       " 11,\n",
       " 50,\n",
       " 110,\n",
       " 151,\n",
       " 223,\n",
       " 246,\n",
       " 318,\n",
       " 357,\n",
       " 457,\n",
       " 497,\n",
       " 527,\n",
       " 50,\n",
       " 260,\n",
       " 296,\n",
       " 593,\n",
       " 608,\n",
       " 1089,\n",
       " 1196,\n",
       " 1197,\n",
       " 1200,\n",
       " 1210,\n",
       " 1214,\n",
       " 1215,\n",
       " 1219,\n",
       " 1221,\n",
       " 1248,\n",
       " 1258,\n",
       " 1291,\n",
       " 1387,\n",
       " 1584,\n",
       " 1729,\n",
       " 1921,\n",
       " 1968,\n",
       " 2118,\n",
       " 2342,\n",
       " 2366,\n",
       " 2391,\n",
       " 2571,\n",
       " 2580,\n",
       " 2599,\n",
       " 2692,\n",
       " 2700,\n",
       " 2762,\n",
       " 2858,\n",
       " 2997,\n",
       " 3000,\n",
       " 3019,\n",
       " 3213,\n",
       " 3328,\n",
       " 3362,\n",
       " 3481,\n",
       " 3911,\n",
       " 1,\n",
       " 17,\n",
       " 34,\n",
       " 62,\n",
       " 82,\n",
       " 111,\n",
       " 150,\n",
       " 163,\n",
       " 203,\n",
       " 223,\n",
       " 230,\n",
       " 265,\n",
       " 272,\n",
       " 281,\n",
       " 296,\n",
       " 300,\n",
       " 306,\n",
       " 307,\n",
       " 308,\n",
       " 314,\n",
       " 318,\n",
       " 337,\n",
       " 350,\n",
       " 364,\n",
       " 431,\n",
       " 491,\n",
       " 514,\n",
       " 553,\n",
       " 685,\n",
       " 296,\n",
       " 1206,\n",
       " 1258,\n",
       " 1259,\n",
       " 1721,\n",
       " 2160,\n",
       " 2712,\n",
       " 3948,\n",
       " 4022,\n",
       " 4816,\n",
       " 4848,\n",
       " 4878,\n",
       " 6287,\n",
       " 6763,\n",
       " 6874,\n",
       " 7173,\n",
       " 7293,\n",
       " 7438,\n",
       " 55820,\n",
       " 87869,\n",
       " 104879,\n",
       " 116897,\n",
       " 10,\n",
       " 11,\n",
       " 16,\n",
       " 22,\n",
       " 50,\n",
       " 150,\n",
       " 223,\n",
       " 253,\n",
       " 260,\n",
       " 288,\n",
       " 296,\n",
       " 333,\n",
       " 356,\n",
       " 550,\n",
       " 553,\n",
       " 555,\n",
       " 593,\n",
       " 597,\n",
       " 648,\n",
       " 805,\n",
       " 858,\n",
       " 912,\n",
       " 924,\n",
       " 1060,\n",
       " 1089,\n",
       " 1090,\n",
       " 1093,\n",
       " 1101,\n",
       " 1124,\n",
       " 1197,\n",
       " 1210,\n",
       " 1213,\n",
       " 1221,\n",
       " 1222,\n",
       " 1231,\n",
       " 1245,\n",
       " 1246,\n",
       " 1265,\n",
       " 1378,\n",
       " 1379,\n",
       " 1500,\n",
       " 1517,\n",
       " 1653,\n",
       " 1673,\n",
       " 1704,\n",
       " 1722,\n",
       " 1784,\n",
       " 2000,\n",
       " 2023,\n",
       " 2028,\n",
       " 2081,\n",
       " 2278,\n",
       " 2329,\n",
       " 2371,\n",
       " 2372,\n",
       " 2376,\n",
       " 2423,\n",
       " 2478,\n",
       " 2502,\n",
       " 2541,\n",
       " 2571,\n",
       " 2706,\n",
       " 2712,\n",
       " 2763,\n",
       " 2791,\n",
       " 2871,\n",
       " 2989,\n",
       " 2990,\n",
       " 3082,\n",
       " 3100,\n",
       " 3448,\n",
       " 3450,\n",
       " 3502,\n",
       " 3755,\n",
       " 3841,\n",
       " 4002,\n",
       " 4007,\n",
       " 4034,\n",
       " 4041,\n",
       " 4102,\n",
       " 4262,\n",
       " 4321,\n",
       " 4351,\n",
       " 4482,\n",
       " 4489,\n",
       " 4509,\n",
       " 4564,\n",
       " 1,\n",
       " 3,\n",
       " 5,\n",
       " 7,\n",
       " 8,\n",
       " 23,\n",
       " 29,\n",
       " 34,\n",
       " 48,\n",
       " 57,\n",
       " 60,\n",
       " 79,\n",
       " 102,\n",
       " 107,\n",
       " 150,\n",
       " 153,\n",
       " 158,\n",
       " 165,\n",
       " 168,\n",
       " 174,\n",
       " 217,\n",
       " 238,\n",
       " 256,\n",
       " 261,\n",
       " 262,\n",
       " 271,\n",
       " 276,\n",
       " 277,\n",
       " 292,\n",
       " 325,\n",
       " 329,\n",
       " 355,\n",
       " 356,\n",
       " 362,\n",
       " 364,\n",
       " 367,\n",
       " 374,\n",
       " 382,\n",
       " 419,\n",
       " 420,\n",
       " 434,\n",
       " 435,\n",
       " 442,\n",
       " 457,\n",
       " 484,\n",
       " 500,\n",
       " 502,\n",
       " 519,\n",
       " 520,\n",
       " 552,\n",
       " 575,\n",
       " 587,\n",
       " 588,\n",
       " 589,\n",
       " 592,\n",
       " 594,\n",
       " 595,\n",
       " 596,\n",
       " 597,\n",
       " 609,\n",
       " 610,\n",
       " 616,\n",
       " 631,\n",
       " 648,\n",
       " 661,\n",
       " 711,\n",
       " 783,\n",
       " 788,\n",
       " 810,\n",
       " 828,\n",
       " 1064,\n",
       " 1073,\n",
       " 1084,\n",
       " 1105,\n",
       " 1356,\n",
       " 112,\n",
       " 260,\n",
       " 733,\n",
       " 737,\n",
       " 1210,\n",
       " 1429,\n",
       " 1476,\n",
       " 1639,\n",
       " 50,\n",
       " 104,\n",
       " 110,\n",
       " 150,\n",
       " 165,\n",
       " 216,\n",
       " 223,\n",
       " 231,\n",
       " 260,\n",
       " 296,\n",
       " 356,\n",
       " 362,\n",
       " 364,\n",
       " 474,\n",
       " 543,\n",
       " 588,\n",
       " 589,\n",
       " 595,\n",
       " 858,\n",
       " 1035,\n",
       " 1059,\n",
       " 1060,\n",
       " 1097,\n",
       " 1136,\n",
       " 1196,\n",
       " 1197,\n",
       " 1210,\n",
       " 1213,\n",
       " 1242,\n",
       " 1246,\n",
       " 1258,\n",
       " 1282,\n",
       " 1291,\n",
       " 1302,\n",
       " ...]"
      ]
     },
     "execution_count": 21,
     "metadata": {},
     "output_type": "execute_result"
    }
   ],
   "source": [
    "list(highest_movie_rating_id)"
   ]
  },
  {
   "cell_type": "code",
   "execution_count": 33,
   "id": "10cfb028",
   "metadata": {},
   "outputs": [],
   "source": [
    "highest_rated_movie_names = movies[movies['movieId'].isin(highest_movie_rating_id)]['title']"
   ]
  },
  {
   "cell_type": "code",
   "execution_count": 34,
   "id": "1b929248",
   "metadata": {},
   "outputs": [
    {
     "name": "stdout",
     "output_type": "stream",
     "text": [
      "0                         Toy Story (1995)\n",
      "1                           Jumanji (1995)\n",
      "2                  Grumpier Old Men (1995)\n",
      "4       Father of the Bride Part II (1995)\n",
      "5                              Heat (1995)\n",
      "                       ...                \n",
      "9688               De platte jungle (1978)\n",
      "9702     Sherlock - A Study in Pink (2010)\n",
      "9709                     Deadpool 2 (2018)\n",
      "9710        Solo: A Star Wars Story (2018)\n",
      "9711      Won't You Be My Neighbor? (2018)\n",
      "Name: title, Length: 2954, dtype: object\n"
     ]
    }
   ],
   "source": [
    "print(highest_rated_movie_names)"
   ]
  },
  {
   "cell_type": "code",
   "execution_count": 35,
   "id": "435b324e",
   "metadata": {},
   "outputs": [],
   "source": [
    "highest_rated_movie_names = list(highest_rated_movie_names)"
   ]
  },
  {
   "cell_type": "code",
   "execution_count": 36,
   "id": "2d380524",
   "metadata": {},
   "outputs": [
    {
     "data": {
      "text/plain": [
       "False"
      ]
     },
     "execution_count": 36,
     "metadata": {},
     "output_type": "execute_result"
    }
   ],
   "source": [
    "\"Matrix\" in highest_rated_movie_names"
   ]
  },
  {
   "cell_type": "code",
   "execution_count": 37,
   "id": "7cfc40d9",
   "metadata": {},
   "outputs": [
    {
     "data": {
      "text/plain": [
       "False"
      ]
     },
     "execution_count": 37,
     "metadata": {},
     "output_type": "execute_result"
    }
   ],
   "source": [
    "\"Pulp Fiction\" in highest_rated_movie_names"
   ]
  },
  {
   "cell_type": "code",
   "execution_count": 38,
   "id": "d924e899",
   "metadata": {},
   "outputs": [
    {
     "data": {
      "text/plain": [
       "False"
      ]
     },
     "execution_count": 38,
     "metadata": {},
     "output_type": "execute_result"
    }
   ],
   "source": [
    "\"Forrest Gump\" in highest_rated_movie_names"
   ]
  },
  {
   "cell_type": "code",
   "execution_count": 39,
   "id": "cc0cd3b7",
   "metadata": {},
   "outputs": [
    {
     "data": {
      "text/plain": [
       "False"
      ]
     },
     "execution_count": 39,
     "metadata": {},
     "output_type": "execute_result"
    }
   ],
   "source": [
    "\"Shawshank Redemption\" in highest_rated_movie_names"
   ]
  },
  {
   "cell_type": "code",
   "execution_count": 30,
   "id": "c56565d3",
   "metadata": {},
   "outputs": [],
   "source": [
    "l = list(highest_movie_rating_id)"
   ]
  },
  {
   "cell_type": "code",
   "execution_count": null,
   "id": "6c85b6bf",
   "metadata": {},
   "outputs": [],
   "source": []
  },
  {
   "cell_type": "code",
   "execution_count": 32,
   "id": "998a1b81",
   "metadata": {},
   "outputs": [
    {
     "ename": "ValueError",
     "evalue": "The truth value of a Series is ambiguous. Use a.empty, a.bool(), a.item(), a.any() or a.all().",
     "output_type": "error",
     "traceback": [
      "\u001b[1;31m---------------------------------------------------------------------------\u001b[0m",
      "\u001b[1;31mValueError\u001b[0m                                Traceback (most recent call last)",
      "\u001b[1;32m~\\AppData\\Local\\Temp\\ipykernel_30684\\2901099890.py\u001b[0m in \u001b[0;36m<module>\u001b[1;34m\u001b[0m\n\u001b[1;32m----> 1\u001b[1;33m \u001b[1;32mif\u001b[0m \u001b[0mmovie_id_matrix\u001b[0m \u001b[1;32min\u001b[0m \u001b[0ml\u001b[0m\u001b[1;33m:\u001b[0m\u001b[1;33m\u001b[0m\u001b[1;33m\u001b[0m\u001b[0m\n\u001b[0m\u001b[0;32m      2\u001b[0m     \u001b[0mprint\u001b[0m\u001b[1;33m(\u001b[0m\u001b[1;34m\"Matrix\"\u001b[0m\u001b[1;33m)\u001b[0m\u001b[1;33m\u001b[0m\u001b[1;33m\u001b[0m\u001b[0m\n\u001b[0;32m      3\u001b[0m \u001b[1;32melif\u001b[0m \u001b[0mmovie_id_pulp\u001b[0m \u001b[1;32min\u001b[0m \u001b[0ml\u001b[0m\u001b[1;33m:\u001b[0m\u001b[1;33m\u001b[0m\u001b[1;33m\u001b[0m\u001b[0m\n\u001b[0;32m      4\u001b[0m     \u001b[0mprint\u001b[0m\u001b[1;33m(\u001b[0m\u001b[1;34m\"Pulp Fiction\"\u001b[0m\u001b[1;33m)\u001b[0m\u001b[1;33m\u001b[0m\u001b[1;33m\u001b[0m\u001b[0m\n\u001b[0;32m      5\u001b[0m \u001b[1;32melif\u001b[0m \u001b[0mmovie_id_gump\u001b[0m \u001b[1;32min\u001b[0m \u001b[0ml\u001b[0m\u001b[1;33m:\u001b[0m\u001b[1;33m\u001b[0m\u001b[1;33m\u001b[0m\u001b[0m\n",
      "\u001b[1;32m~\\AppData\\Roaming\\Python\\Python39\\site-packages\\pandas\\core\\generic.py\u001b[0m in \u001b[0;36m__nonzero__\u001b[1;34m(self)\u001b[0m\n\u001b[0;32m   1524\u001b[0m     \u001b[1;33m@\u001b[0m\u001b[0mfinal\u001b[0m\u001b[1;33m\u001b[0m\u001b[1;33m\u001b[0m\u001b[0m\n\u001b[0;32m   1525\u001b[0m     \u001b[1;32mdef\u001b[0m \u001b[0m__nonzero__\u001b[0m\u001b[1;33m(\u001b[0m\u001b[0mself\u001b[0m\u001b[1;33m)\u001b[0m \u001b[1;33m->\u001b[0m \u001b[0mNoReturn\u001b[0m\u001b[1;33m:\u001b[0m\u001b[1;33m\u001b[0m\u001b[1;33m\u001b[0m\u001b[0m\n\u001b[1;32m-> 1526\u001b[1;33m         raise ValueError(\n\u001b[0m\u001b[0;32m   1527\u001b[0m             \u001b[1;34mf\"The truth value of a {type(self).__name__} is ambiguous. \"\u001b[0m\u001b[1;33m\u001b[0m\u001b[1;33m\u001b[0m\u001b[0m\n\u001b[0;32m   1528\u001b[0m             \u001b[1;34m\"Use a.empty, a.bool(), a.item(), a.any() or a.all().\"\u001b[0m\u001b[1;33m\u001b[0m\u001b[1;33m\u001b[0m\u001b[0m\n",
      "\u001b[1;31mValueError\u001b[0m: The truth value of a Series is ambiguous. Use a.empty, a.bool(), a.item(), a.any() or a.all()."
     ]
    }
   ],
   "source": [
    "if movie_id_matrix in l:\n",
    "    print(\"Matrix\")\n",
    "elif movie_id_pulp in l:\n",
    "    print(\"Pulp Fiction\")\n",
    "elif movie_id_gump in l:\n",
    "    print(\"Forrest Gump\")\n",
    "elif movie_id_redempt in l:\n",
    "    print(\"Shawshank Redemption\")"
   ]
  },
  {
   "cell_type": "code",
   "execution_count": null,
   "id": "765678fc",
   "metadata": {},
   "outputs": [],
   "source": [
    "movie_id_matrix = movies[movies['title'] == \"Matrix\"][\"movieId\"]\n",
    "movie_id_pulp = movies[movies['title'] == \"Pulp Fiction\"][\"movieId\"]\n",
    "movie_id_gump = movies[movies['title'] == \"Forrest Gump\"][\"movieId\"]\n",
    "movie_id_redempt = movies[movies['title'] == \"Shawshank Redemption\"][\"movieId\"]"
   ]
  },
  {
   "cell_type": "code",
   "execution_count": 40,
   "id": "8ffb456c",
   "metadata": {},
   "outputs": [
    {
     "name": "stdout",
     "output_type": "stream",
     "text": [
      "<class 'pandas.core.frame.DataFrame'>\n",
      "RangeIndex: 9742 entries, 0 to 9741\n",
      "Data columns (total 3 columns):\n",
      " #   Column   Non-Null Count  Dtype \n",
      "---  ------   --------------  ----- \n",
      " 0   movieId  9742 non-null   int64 \n",
      " 1   title    9742 non-null   object\n",
      " 2   genres   9742 non-null   object\n",
      "dtypes: int64(1), object(2)\n",
      "memory usage: 228.5+ KB\n"
     ]
    }
   ],
   "source": [
    "movies.info()"
   ]
  },
  {
   "cell_type": "code",
   "execution_count": 41,
   "id": "0d77b643",
   "metadata": {},
   "outputs": [
    {
     "name": "stdout",
     "output_type": "stream",
     "text": [
      "<class 'pandas.core.frame.DataFrame'>\n",
      "RangeIndex: 100836 entries, 0 to 100835\n",
      "Data columns (total 4 columns):\n",
      " #   Column     Non-Null Count   Dtype  \n",
      "---  ------     --------------   -----  \n",
      " 0   userId     100836 non-null  int64  \n",
      " 1   movieId    100836 non-null  int64  \n",
      " 2   rating     100836 non-null  float64\n",
      " 3   timestamp  100836 non-null  int64  \n",
      "dtypes: float64(1), int64(3)\n",
      "memory usage: 3.1 MB\n"
     ]
    }
   ],
   "source": [
    "ratings.info()"
   ]
  },
  {
   "cell_type": "code",
   "execution_count": null,
   "id": "f456cff4",
   "metadata": {},
   "outputs": [],
   "source": []
  }
 ],
 "metadata": {
  "kernelspec": {
   "display_name": "Python 3 (ipykernel)",
   "language": "python",
   "name": "python3"
  },
  "language_info": {
   "codemirror_mode": {
    "name": "ipython",
    "version": 3
   },
   "file_extension": ".py",
   "mimetype": "text/x-python",
   "name": "python",
   "nbconvert_exporter": "python",
   "pygments_lexer": "ipython3",
   "version": "3.9.13"
  }
 },
 "nbformat": 4,
 "nbformat_minor": 5
}
